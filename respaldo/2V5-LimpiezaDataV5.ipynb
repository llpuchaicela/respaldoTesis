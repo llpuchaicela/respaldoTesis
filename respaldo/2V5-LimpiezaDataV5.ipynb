{
 "cells": [
  {
   "cell_type": "code",
   "execution_count": 1,
   "id": "63922102-e74f-480b-99ab-127f8ad98df7",
   "metadata": {},
   "outputs": [],
   "source": [
    "#librerías para analizar datos:\n",
    "import os, numpy as np, pandas as pd\n",
    "import scipy # herramientas y algoritmos matemáticos\n",
    "import matplotlib.pyplot as plt, seaborn as sns # gráficos\n",
    "import os\n",
    "import math\n",
    "import numpy as np\n",
    "import pandas as pd\n",
    "import scipy\n",
    "import matplotlib.pyplot as plt # Visualizaciones\n",
    "import seaborn as sns # Visualizaciones mas sencillas"
   ]
  },
  {
   "cell_type": "markdown",
   "id": "88318f4b-c663-4f16-b008-fe27948a67f0",
   "metadata": {},
   "source": [
    "# Limpieza data V5"
   ]
  },
  {
   "cell_type": "code",
   "execution_count": 2,
   "id": "6cc4c303-5f2a-45e0-a811-5f0ad3bb74a0",
   "metadata": {},
   "outputs": [
    {
     "data": {
      "text/html": [
       "<div>\n",
       "<style scoped>\n",
       "    .dataframe tbody tr th:only-of-type {\n",
       "        vertical-align: middle;\n",
       "    }\n",
       "\n",
       "    .dataframe tbody tr th {\n",
       "        vertical-align: top;\n",
       "    }\n",
       "\n",
       "    .dataframe thead th {\n",
       "        text-align: right;\n",
       "    }\n",
       "</style>\n",
       "<table border=\"1\" class=\"dataframe\">\n",
       "  <thead>\n",
       "    <tr style=\"text-align: right;\">\n",
       "      <th></th>\n",
       "      <th>ID</th>\n",
       "      <th>PERIODO_CODIGO</th>\n",
       "      <th>PERIODO_NOMBRE</th>\n",
       "      <th>ESTUDIANTE_CARRERA_CODIGO</th>\n",
       "      <th>PROGRAMA_NOMBRE_LARGO</th>\n",
       "      <th>ESTUDIANTE_CARRERA_MALLA_COD</th>\n",
       "      <th>PROGRAMA_MODALIDAD_NOMBRE</th>\n",
       "      <th>PROGRAMA_NIVEL_NOMBRE</th>\n",
       "      <th>CREDITOS_TOTAL</th>\n",
       "      <th>CURSOS</th>\n",
       "      <th>...</th>\n",
       "      <th>Tipo de centro de rehabilitación social</th>\n",
       "      <th>Tipo de colegio</th>\n",
       "      <th>Tipo de discapacidad que posee</th>\n",
       "      <th>Tipo de documento legal de ingresos del núcleo familiar</th>\n",
       "      <th>Tipo de mérito</th>\n",
       "      <th>Tipo de parentesco</th>\n",
       "      <th>Tipo de representación estudiantil</th>\n",
       "      <th>Titulación aprobada por la Senescyt</th>\n",
       "      <th>Usted o algún miembro de su familia cuenta con registro social</th>\n",
       "      <th>Usted o algún miembro de su familia recibe el bono de desarrollo humano</th>\n",
       "    </tr>\n",
       "  </thead>\n",
       "  <tbody>\n",
       "    <tr>\n",
       "      <th>0</th>\n",
       "      <td>32</td>\n",
       "      <td>202264</td>\n",
       "      <td>OCT/2022 - FEB/2023</td>\n",
       "      <td>PSIC_D1</td>\n",
       "      <td>PSICOLOGIA</td>\n",
       "      <td>PSD6</td>\n",
       "      <td>DISTANCIA</td>\n",
       "      <td>GRADO</td>\n",
       "      <td>15</td>\n",
       "      <td>5</td>\n",
       "      <td>...</td>\n",
       "      <td>NaN</td>\n",
       "      <td>NaN</td>\n",
       "      <td>NaN</td>\n",
       "      <td>Declaración Juramentada</td>\n",
       "      <td>NaN</td>\n",
       "      <td>NaN</td>\n",
       "      <td>NaN</td>\n",
       "      <td>NaN</td>\n",
       "      <td>NaN</td>\n",
       "      <td>NaN</td>\n",
       "    </tr>\n",
       "    <tr>\n",
       "      <th>1</th>\n",
       "      <td>32</td>\n",
       "      <td>202264</td>\n",
       "      <td>OCT/2022 - FEB/2023</td>\n",
       "      <td>PSIC_D1</td>\n",
       "      <td>PSICOLOGIA</td>\n",
       "      <td>PSD6</td>\n",
       "      <td>DISTANCIA</td>\n",
       "      <td>GRADO</td>\n",
       "      <td>15</td>\n",
       "      <td>5</td>\n",
       "      <td>...</td>\n",
       "      <td>NaN</td>\n",
       "      <td>NaN</td>\n",
       "      <td>NaN</td>\n",
       "      <td>Declaración Juramentada</td>\n",
       "      <td>NaN</td>\n",
       "      <td>NaN</td>\n",
       "      <td>NaN</td>\n",
       "      <td>NaN</td>\n",
       "      <td>NaN</td>\n",
       "      <td>NaN</td>\n",
       "    </tr>\n",
       "  </tbody>\n",
       "</table>\n",
       "<p>2 rows × 90 columns</p>\n",
       "</div>"
      ],
      "text/plain": [
       "   ID  PERIODO_CODIGO       PERIODO_NOMBRE ESTUDIANTE_CARRERA_CODIGO  \\\n",
       "0  32          202264  OCT/2022 - FEB/2023                   PSIC_D1   \n",
       "1  32          202264  OCT/2022 - FEB/2023                   PSIC_D1   \n",
       "\n",
       "  PROGRAMA_NOMBRE_LARGO ESTUDIANTE_CARRERA_MALLA_COD  \\\n",
       "0            PSICOLOGIA                         PSD6   \n",
       "1            PSICOLOGIA                         PSD6   \n",
       "\n",
       "  PROGRAMA_MODALIDAD_NOMBRE PROGRAMA_NIVEL_NOMBRE  CREDITOS_TOTAL  CURSOS  \\\n",
       "0                 DISTANCIA                 GRADO              15       5   \n",
       "1                 DISTANCIA                 GRADO              15       5   \n",
       "\n",
       "   ...  Tipo de centro de rehabilitación social  Tipo de colegio  \\\n",
       "0  ...                                      NaN              NaN   \n",
       "1  ...                                      NaN              NaN   \n",
       "\n",
       "   Tipo de discapacidad que posee  \\\n",
       "0                             NaN   \n",
       "1                             NaN   \n",
       "\n",
       "   Tipo de documento legal de ingresos del núcleo familiar  Tipo de mérito  \\\n",
       "0                            Declaración Juramentada                   NaN   \n",
       "1                            Declaración Juramentada                   NaN   \n",
       "\n",
       "   Tipo de parentesco Tipo de representación estudiantil  \\\n",
       "0                 NaN                                NaN   \n",
       "1                 NaN                                NaN   \n",
       "\n",
       "  Titulación aprobada por la Senescyt  \\\n",
       "0                                 NaN   \n",
       "1                                 NaN   \n",
       "\n",
       "   Usted o algún miembro de su familia cuenta con registro social  \\\n",
       "0                                                NaN                \n",
       "1                                                NaN                \n",
       "\n",
       "  Usted o algún miembro de su familia recibe el bono de desarrollo humano  \n",
       "0                                                NaN                       \n",
       "1                                                NaN                       \n",
       "\n",
       "[2 rows x 90 columns]"
      ]
     },
     "execution_count": 2,
     "metadata": {},
     "output_type": "execute_result"
    }
   ],
   "source": [
    "df = pd.read_csv(\"dataV5transpuesto.csv\", sep=\"|\",low_memory=False)\n",
    "df.head(2)"
   ]
  },
  {
   "cell_type": "code",
   "execution_count": 3,
   "id": "03bfe476-866f-475d-9d0b-57863a90d165",
   "metadata": {},
   "outputs": [
    {
     "data": {
      "text/plain": [
       "(581184, 90)"
      ]
     },
     "execution_count": 3,
     "metadata": {},
     "output_type": "execute_result"
    }
   ],
   "source": [
    "df.shape"
   ]
  },
  {
   "cell_type": "code",
   "execution_count": 4,
   "id": "4226bd7c-91df-4d3c-8bf9-6d7a3de929cb",
   "metadata": {},
   "outputs": [],
   "source": [
    "# pd.set_option('display.max_rows', None)  # Muestra todas las filas\n",
    "\n",
    "# data.isna().sum()"
   ]
  },
  {
   "cell_type": "markdown",
   "id": "d0ed286b-0b41-4c34-90bf-522cf7459edf",
   "metadata": {},
   "source": [
    "## Corregir columnas con valores en null"
   ]
  },
  {
   "cell_type": "code",
   "execution_count": 5,
   "id": "d9604f0f-bc13-4acd-81e0-56c9ec4c43e1",
   "metadata": {},
   "outputs": [],
   "source": [
    "df['Disciplina deportiva en la que participa'] = df['Disciplina deportiva en la que participa'].fillna('Ninguno')\n",
    "df['Fué declarado usted abanderado del pabellón nacional'] = df['Fué declarado usted abanderado del pabellón nacional'].fillna('No')\n",
    "df['Nombre de club universitario'] = df['Nombre de club universitario'].fillna('Ninguno')\n",
    "df['Nombre de la federación deportiva'] = df['Nombre de la federación deportiva'].fillna('Ninguno')\n",
    "df['Nombre del grupo de arte de UTPL al que pertenece'] = df['Nombre del grupo de arte de UTPL al que pertenece'].fillna('Ninguno')\n",
    "df['Cuáles son los ingresos familiares'] = df['Cuáles son los ingresos familiares'].fillna('0')\n",
    "df['Porcentaje de discapacidad'] = df['Porcentaje de discapacidad'].fillna(0)\n",
    "df['Número de miembros del núcleo familiar (1°consanguinidad)'] = df['Número de miembros del núcleo familiar (1°consanguinidad)'].fillna(0)\n",
    "df['Qué miembro de su núcleo familiar registra la calamidad doméstica'] = df['Qué miembro de su núcleo familiar registra la calamidad doméstica'].fillna('Ninguno')\n",
    "df['Servicios médicos con los que cuenta la familia'] = df['Servicios médicos con los que cuenta la familia'].fillna('Ninguno')\n",
    "df['Su núcleo familiar cuenta con alguna calamidad doméstica'] = df['Su núcleo familiar cuenta con alguna calamidad doméstica'].fillna('Ninguno')\n",
    "df['Tipo de discapacidad que posee'] = df['Tipo de discapacidad que posee'].fillna('Ninguna')\n",
    "df['Tipo de parentesco'] = df['Tipo de parentesco'].fillna('No Definido')\n",
    "df['Los ingresos provienen de'] = df['Los ingresos provienen de'].fillna('Desconocido')\n",
    "df['Monto de ingresos nominales familiares'] = df['Monto de ingresos nominales familiares'].fillna(0)\n"
   ]
  },
  {
   "cell_type": "code",
   "execution_count": 6,
   "id": "eb21c52c-baa4-489c-bfce-9b385e793297",
   "metadata": {},
   "outputs": [
    {
     "data": {
      "text/plain": [
       "array([0])"
      ]
     },
     "execution_count": 6,
     "metadata": {},
     "output_type": "execute_result"
    }
   ],
   "source": [
    "df['BECAS'].unique()"
   ]
  },
  {
   "cell_type": "markdown",
   "id": "e46beaea-cf2d-499e-a48f-af7264978142",
   "metadata": {},
   "source": [
    "## Eliminar espacios vacios antes y despues de los valores del dataframe"
   ]
  },
  {
   "cell_type": "code",
   "execution_count": 7,
   "id": "989a5d8a-6096-4b3f-90e7-e1a9fdba712f",
   "metadata": {},
   "outputs": [],
   "source": [
    "# Eliminar espacios en blanco al inicio y final de los nombres de las columnas\n",
    "df.columns = df.columns.str.strip()\n",
    "\n",
    "# Eliminar espacios en blanco al inicio y final de los valores en cada columna de tipo string\n",
    "for column in df.select_dtypes(include='object').columns:\n",
    "    df[column] = df[column].str.strip()\n"
   ]
  },
  {
   "cell_type": "code",
   "execution_count": 8,
   "id": "fef579e4-7a68-4cb4-88e2-36c7dc47711c",
   "metadata": {},
   "outputs": [
    {
     "name": "stdout",
     "output_type": "stream",
     "text": [
      "<class 'pandas.core.frame.DataFrame'>\n",
      "RangeIndex: 581184 entries, 0 to 581183\n",
      "Data columns (total 90 columns):\n",
      " #   Column                                                                     Non-Null Count   Dtype  \n",
      "---  ------                                                                     --------------   -----  \n",
      " 0   ID                                                                         581184 non-null  int64  \n",
      " 1   PERIODO_CODIGO                                                             581184 non-null  int64  \n",
      " 2   PERIODO_NOMBRE                                                             581184 non-null  object \n",
      " 3   ESTUDIANTE_CARRERA_CODIGO                                                  581184 non-null  object \n",
      " 4   PROGRAMA_NOMBRE_LARGO                                                      581184 non-null  object \n",
      " 5   ESTUDIANTE_CARRERA_MALLA_COD                                               581184 non-null  object \n",
      " 6   PROGRAMA_MODALIDAD_NOMBRE                                                  581184 non-null  object \n",
      " 7   PROGRAMA_NIVEL_NOMBRE                                                      581184 non-null  object \n",
      " 8   CREDITOS_TOTAL                                                             581184 non-null  int64  \n",
      " 9   CURSOS                                                                     581184 non-null  int64  \n",
      " 10  CURSOS_ANULADOS                                                            581184 non-null  int64  \n",
      " 11  CURSOS_RETIRADOS                                                           581184 non-null  int64  \n",
      " 12  CURSOS_ELIMINADOS                                                          581184 non-null  int64  \n",
      " 13  BECAS                                                                      581184 non-null  int64  \n",
      " 14  DESCUENTOS                                                                 581184 non-null  int64  \n",
      " 15  CONVENIOS                                                                  581184 non-null  int64  \n",
      " 16  CODIGO_BECA                                                                581184 non-null  object \n",
      " 17  BECA_NOMBRE                                                                581184 non-null  object \n",
      " 18  BECA_PORCENTAJE                                                            581184 non-null  float64\n",
      " 19  BECA_DETALLE_DESCRIPCION                                                   581184 non-null  object \n",
      " 20  BECA_DETALLE_CODIGO                                                        581184 non-null  object \n",
      " 21  PREGUNTA_CODIGO                                                            581184 non-null  object \n",
      " 22  CURSO_NOMBRE                                                               581184 non-null  object \n",
      " 23  CURSO_CODIGO                                                               581184 non-null  object \n",
      " 24  SISTEMA_EVALUACION                                                         581184 non-null  object \n",
      " 25  PARALELO                                                                   581184 non-null  object \n",
      " 26  CRN                                                                        581184 non-null  float64\n",
      " 27  FINAL_NOTA                                                                 581184 non-null  float64\n",
      " 28  TOTALFIN_NOTA                                                              581184 non-null  float64\n",
      " 29  ESTADO_CALIFICACION                                                        581184 non-null  object \n",
      " 30  BIM2_NOTA                                                                  581184 non-null  float64\n",
      " 31  BIM1_NOTA                                                                  581184 non-null  float64\n",
      " 32  Alguien de su núcleo familiar tiene RUC                                    32504 non-null   object \n",
      " 33  Alguien de su núcleo familiar tiene RUC o RISE                             15279 non-null   object \n",
      " 34  Año de aceptación del cupo por la Senescyt                                 948 non-null     float64\n",
      " 35  Año de graduación                                                          279 non-null     float64\n",
      " 36  Año que quedó desempleado                                                  1125 non-null    float64\n",
      " 37  Carnet emitido por                                                         2395 non-null    object \n",
      " 38  Cuáles son los ingresos familiares                                         581184 non-null  object \n",
      " 39  Cuántos miembros son en su familia (1°consanguinidad)                      6836 non-null    float64\n",
      " 40  Cuántos miembros son en su familia(1°consanguinidad y afinidad)            3482 non-null    float64\n",
      " 41  Disciplina deportiva en la que participa                                   581184 non-null  object \n",
      " 42  En su núcleo familiar alguien tiene calamidad doméstica                    15279 non-null   object \n",
      " 43  Fecha de aviso de salida del IESS (DD-MM-AA)                               1125 non-null    object \n",
      " 44  Fué declarado usted abanderado del pabellón nacional                       581184 non-null  object \n",
      " 45  Los ingresos provienen de                                                  581184 non-null  object \n",
      " 46  Modalidad aprobada por la Senescyt                                         948 non-null     object \n",
      " 47  Monto de ingresos nominales familiares                                     581184 non-null  float64\n",
      " 48  Nombre de club universitario                                               581184 non-null  object \n",
      " 49  Nombre de la congregación religiosa a la que pertenece                     296 non-null     object \n",
      " 50  Nombre de la dependencia a la que pertenece                                18 non-null      object \n",
      " 51  Nombre de la federación deportiva                                          581184 non-null  object \n",
      " 52  Nombre de la unidad educativa en la que obtuvo el mérito académico         6 non-null       object \n",
      " 53  Nombre de la universidad a la que pertenece                                10 non-null      object \n",
      " 54  Nombre de la universidad de intercambio                                    10 non-null      object \n",
      " 55  Nombre del centro de rehabilitación social                                 1138 non-null    object \n",
      " 56  Nombre del colegio donde se graduó                                         279 non-null     object \n",
      " 57  Nombre del grupo de arte de UTPL al que pertenece                          581184 non-null  object \n",
      " 58  Nombre del proyecto a realizar                                             39 non-null      object \n",
      " 59  Nombre del pueblo o nacionalidad indígena a la que pertenece               749 non-null     object \n",
      " 60  Nombre del reconocimiento                                                  8 non-null       object \n",
      " 61  Número de miembros del núcleo familiar (1°consanguinidad)                  581184 non-null  float64\n",
      " 62  Parentesco con el familiar que es o fué héroe o heroína                    53 non-null      object \n",
      " 63  Perfil                                                                     27 non-null      object \n",
      " 64  Porcentaje de discapacidad                                                 581184 non-null  float64\n",
      " 65  Promedio de graduación                                                     279 non-null     float64\n",
      " 66  Provincia a la que pertenece la congregación religiosa                     323 non-null     object \n",
      " 67  Qué miembro de su núcleo familiar cuenta con el bono de desarrollo humano  32498 non-null   object \n",
      " 68  Qué miembro de su núcleo familiar registra la calamidad doméstica          581184 non-null  object \n",
      " 69  Rol que desempeña en UTPL                                                  18 non-null      object \n",
      " 70  Seleccione la región de su pueblo o nacionalidad indígena                  749 non-null     object \n",
      " 71  Servicios médicos con los que cuenta la familia                            581184 non-null  object \n",
      " 72  Su núcleo familiar cuenta con alguna calamidad doméstica                   581184 non-null  object \n",
      " 73  Tiempo en el club universitario                                            211 non-null     object \n",
      " 74  Tiempo en el grupo                                                         41 non-null      object \n",
      " 75  Tiene algún familiar que es o fué héroe o heroína                          53 non-null      object \n",
      " 76  Tiene aviso de salida del IESS                                             1125 non-null    object \n",
      " 77  Tiene contrato indefinido en UTPL                                          18 non-null      object \n",
      " 78  Tipo de Beca de Responsabilidad Universitaria                              39 non-null      object \n",
      " 79  Tipo de afiliación al IESS del solicitante                                 47783 non-null   object \n",
      " 80  Tipo de centro de rehabilitación social                                    1138 non-null    object \n",
      " 81  Tipo de colegio                                                            279 non-null     object \n",
      " 82  Tipo de discapacidad que posee                                             581184 non-null  object \n",
      " 83  Tipo de documento legal de ingresos del núcleo familiar                    47783 non-null   object \n",
      " 84  Tipo de mérito                                                             14 non-null      object \n",
      " 85  Tipo de parentesco                                                         581184 non-null  object \n",
      " 86  Tipo de representación estudiantil                                         22 non-null      object \n",
      " 87  Titulación aprobada por la Senescyt                                        948 non-null     object \n",
      " 88  Usted o algún miembro de su familia cuenta con registro social             38902 non-null   object \n",
      " 89  Usted o algún miembro de su familia recibe el bono de desarrollo humano    38902 non-null   object \n",
      "dtypes: float64(15), int64(10), object(65)\n",
      "memory usage: 399.1+ MB\n"
     ]
    }
   ],
   "source": [
    "df.info()"
   ]
  },
  {
   "cell_type": "markdown",
   "id": "c358e5ac-c85d-45a3-9684-b6786395ea62",
   "metadata": {},
   "source": [
    "## Conversión de formatos"
   ]
  },
  {
   "cell_type": "code",
   "execution_count": 9,
   "id": "cceaacc9-820b-4d5a-9c92-6cda106e9c2c",
   "metadata": {},
   "outputs": [],
   "source": [
    "# Convertir columnas a int\n",
    "df['BECA_PORCENTAJE'] = df['BECA_PORCENTAJE'].astype(int)\n",
    "df['Número de miembros del núcleo familiar (1°consanguinidad)'] = df['Número de miembros del núcleo familiar (1°consanguinidad)'].replace(',', '.', regex=False).astype(float)"
   ]
  },
  {
   "cell_type": "code",
   "execution_count": 10,
   "id": "903e601e-b272-47b3-a6a4-51ac1c632ff6",
   "metadata": {},
   "outputs": [
    {
     "data": {
      "text/plain": [
       "array(['Ninguno', 'Enfermedad catastrófica', 'Defunción',\n",
       "       'Familiar con discapacidad'], dtype=object)"
      ]
     },
     "execution_count": 10,
     "metadata": {},
     "output_type": "execute_result"
    }
   ],
   "source": [
    "\n",
    "df['Su núcleo familiar cuenta con alguna calamidad doméstica'].unique()"
   ]
  },
  {
   "cell_type": "markdown",
   "id": "ccbfa807-efd5-4ada-b88d-73dad74a6fc3",
   "metadata": {},
   "source": [
    "## Silenciar columnas"
   ]
  },
  {
   "cell_type": "code",
   "execution_count": 11,
   "id": "18891e2e-76c0-43b2-8bc5-7263c6255979",
   "metadata": {},
   "outputs": [],
   "source": [
    "# Filtrar solo las columnas que contienen \"_COD\" en su nombre\n",
    "columns_with_cod = df.filter(like='_CODIGO').columns.tolist() + \\\n",
    "             df.filter(like='CODIGO_').columns.tolist() + \\\n",
    "             df.filter(like='_COD').columns.tolist() \n",
    "\n",
    "# Calcular el porcentaje de valores nulos por columna\n",
    "porcentajeNulosDataCat = (df.isnull().sum() / len(df)) * 100\n",
    "\n",
    "# Filtrar las columnas con más del 50% de valores nulos\n",
    "columnas_a_eliminar_nulos = porcentajeNulosDataCat[porcentajeNulosDataCat > 50].index.tolist()  # Asegúrate que sea una lista\n",
    "\n",
    "\n",
    "columnasNoConsideradas= ['CREDITOS_TOTAL','CURSOS_ANULADOS','CURSOS_ELIMINADOS',\n",
    "            'CONVENIOS','Alguien de su núcleo familiar tiene RUC',\n",
    "            'Alguien de su núcleo familiar tiene RUC o RISE',\n",
    "            'Año de aceptación del cupo por la Senescyt',\n",
    "            'Carnet emitido por','Fecha de aviso de salida del IESS (DD-MM-AA)',\n",
    "           'Modalidad aprobada por la Senescyt','Nombre de la congregación religiosa a la que pertenece',\n",
    "            'Nombre del centro de rehabilitación social','Nombre del colegio donde se graduó',\n",
    "            'Parentesco con el familiar que es o fué héroe o heroína',\n",
    "            'Perfil','Provincia a la que pertenece la congregación religiosa',\n",
    "            'Qué miembro de su núcleo familiar cuenta con el bono de desarrollo humano',\n",
    "            'Tiene algún familiar que es o fué héroe o heroína',\n",
    "            'Tiene aviso de salida del IESS','Tiene contrato indefinido en UTPL',\n",
    "            'Tipo de afiliación al IESS del solicitante',\n",
    "            'Tipo de centro de rehabilitación social','Tipo de representación estudiantil',\n",
    "            'Titulación aprobada por la Senescyt',\n",
    "            'Usted o algún miembro de su familia cuenta con registro social',\n",
    "            'Usted o algún miembro de su familia recibe el bono de desarrollo humano',\n",
    "            'Rol que desempeña en UTPL','En su núcleo familiar alguien tiene calamidad doméstica','Tiempo en el grupo',\n",
    "           'Tipo de documento legal de ingresos del núcleo familiar','Tipo de mérito','BECAS','DESCUENTOS','BECA_DETALLE_DESCRIPCION',\n",
    "           'Cuántos miembros son en su familia (1°consanguinidad)','Cuántos miembros son en su familia(1°consanguinidad y afinidad)',\n",
    "            'Año de graduación','Año que quedó desempleado','Nombre de la dependencia a la que pertenece',\n",
    "            'Nombre de la unidad educativa en la que obtuvo el mérito académico',\n",
    "            'Nombre de la universidad a la que pertenece','Nombre de la universidad de intercambio',\n",
    "            'Nombre del proyecto a realizar','Nombre del pueblo o nacionalidad indígena a la que pertenece',\n",
    "            'Promedio de graduación','Seleccione la región de su pueblo o nacionalidad indígena',\n",
    "            'Tiempo en el club universitario','Tipo de Beca de Responsabilidad Universitaria','Tipo de colegio',\n",
    "           'SISTEMA_EVALUACION','CRN','Nombre del reconocimiento','Qué miembro de su núcleo familiar registra la calamidad doméstica',\n",
    "            'PARALELO','Nombre de club universitario','Nombre de la federación deportiva',\n",
    "            'Nombre del grupo de arte de UTPL al que pertenece','Tipo de parentesco','CURSO_NOMBRE'\n",
    "                        ]\n",
    "# Convertir la lista 'columnasNoConsideradas' en un DataFrame vacío para poder concatenarlo (opcional)\n",
    "df_columnas_no_consideradas = pd.DataFrame(columns=columnasNoConsideradas)\n",
    "\n",
    "# Crear un nuevo DataFrame dfSilence con las columnas seleccionadas\n",
    "dfSilence = pd.concat([df[columns_with_cod], df[columnasNoConsideradas], df[columnas_a_eliminar_nulos]], axis=1)\n",
    "\n",
    "# Eliminar las columnas del DataFrame original que han sido identificadas\n",
    "data1 = df.drop(columns=columns_with_cod + columnas_a_eliminar_nulos + columnasNoConsideradas, errors='ignore')\n",
    "# Mostrar el DataFrame modificado\n",
    "#dfTraspuesto2.head(10)"
   ]
  },
  {
   "cell_type": "markdown",
   "id": "a90fa39c-5806-4b5b-a911-fd2879820483",
   "metadata": {},
   "source": [
    "### Correción de tipeo en disciplinas deportivas"
   ]
  },
  {
   "cell_type": "code",
   "execution_count": 12,
   "id": "850de1ec-0be6-4427-ad43-d53bad1107fa",
   "metadata": {},
   "outputs": [
    {
     "data": {
      "text/plain": [
       "array(['Ninguno', 'Wushu', 'Ciclismo', 'Futbol', 'Ajedrez', 'Taekwondo',\n",
       "       'Escalada', 'Mtb', 'Patinaje V', 'P. Velocid', 'Pesista', 'Judo',\n",
       "       'Atletismo', 'Baloncesto', 'Tenis De M', 'Natación', 'Karate',\n",
       "       'Pumse', 'Natacion'], dtype=object)"
      ]
     },
     "execution_count": 12,
     "metadata": {},
     "output_type": "execute_result"
    }
   ],
   "source": [
    "data1['Disciplina deportiva en la que participa'] = data1['Disciplina deportiva en la que participa'].str.title()\n",
    "# data1['Disciplina deportiva en la que participa'].unique()\n",
    "\n",
    "# Reemplazar los valores incorrectos con los valores correctos\n",
    "data1['Disciplina deportiva en la que participa'] = data1['Disciplina deportiva en la que participa'].replace({\n",
    "    'Fútbol': 'Futbol',\n",
    "    'ajedrez': 'Ajedrez',\n",
    "    'escalada': 'Escalada',\n",
    "    'baloncesto': 'Baloncesto',\n",
    "    'Basket': 'Baloncesto',\n",
    "    'Basquetbol': 'Baloncesto'   \n",
    "})\n",
    "\n",
    "# Verificar que los cambios se realizaron\n",
    "data1['Disciplina deportiva en la que participa'].unique()"
   ]
  },
  {
   "cell_type": "code",
   "execution_count": 13,
   "id": "9097d460-f359-4c64-a907-c628c0a0b17c",
   "metadata": {},
   "outputs": [
    {
     "data": {
      "text/plain": [
       "ID                                                           0\n",
       "PERIODO_NOMBRE                                               0\n",
       "PROGRAMA_NOMBRE_LARGO                                        0\n",
       "PROGRAMA_MODALIDAD_NOMBRE                                    0\n",
       "PROGRAMA_NIVEL_NOMBRE                                        0\n",
       "CURSOS                                                       0\n",
       "CURSOS_RETIRADOS                                             0\n",
       "BECA_NOMBRE                                                  0\n",
       "BECA_PORCENTAJE                                              0\n",
       "FINAL_NOTA                                                   0\n",
       "TOTALFIN_NOTA                                                0\n",
       "ESTADO_CALIFICACION                                          0\n",
       "BIM2_NOTA                                                    0\n",
       "BIM1_NOTA                                                    0\n",
       "Cuáles son los ingresos familiares                           0\n",
       "Disciplina deportiva en la que participa                     0\n",
       "Fué declarado usted abanderado del pabellón nacional         0\n",
       "Los ingresos provienen de                                    0\n",
       "Monto de ingresos nominales familiares                       0\n",
       "Número de miembros del núcleo familiar (1°consanguinidad)    0\n",
       "Porcentaje de discapacidad                                   0\n",
       "Servicios médicos con los que cuenta la familia              0\n",
       "Su núcleo familiar cuenta con alguna calamidad doméstica     0\n",
       "Tipo de discapacidad que posee                               0\n",
       "dtype: int64"
      ]
     },
     "execution_count": 13,
     "metadata": {},
     "output_type": "execute_result"
    }
   ],
   "source": [
    "pd.set_option('display.max_row', None)\n",
    "\n",
    "data1.isna().sum()"
   ]
  },
  {
   "cell_type": "markdown",
   "id": "b322757e-39b7-43c6-ad37-c60153d9a5e5",
   "metadata": {},
   "source": [
    "# GUARDAR Nuevo dataframe V2 limpio Con valores catego2ricos"
   ]
  },
  {
   "cell_type": "code",
   "execution_count": 14,
   "id": "341073e9-5ef9-49fb-b68f-3495e7b3ab46",
   "metadata": {},
   "outputs": [],
   "source": [
    "# Guardar el DataFrame resultante en un archivo CSV\n",
    "data1.to_csv('dataCleanV5.csv', index=False)"
   ]
  },
  {
   "cell_type": "code",
   "execution_count": 15,
   "id": "eb06da8a-bbe7-40c4-ab35-7b7867d5e5b5",
   "metadata": {},
   "outputs": [
    {
     "data": {
      "text/html": [
       "<div>\n",
       "<style scoped>\n",
       "    .dataframe tbody tr th:only-of-type {\n",
       "        vertical-align: middle;\n",
       "    }\n",
       "\n",
       "    .dataframe tbody tr th {\n",
       "        vertical-align: top;\n",
       "    }\n",
       "\n",
       "    .dataframe thead th {\n",
       "        text-align: right;\n",
       "    }\n",
       "</style>\n",
       "<table border=\"1\" class=\"dataframe\">\n",
       "  <thead>\n",
       "    <tr style=\"text-align: right;\">\n",
       "      <th></th>\n",
       "      <th>ID</th>\n",
       "      <th>PERIODO_NOMBRE</th>\n",
       "      <th>PROGRAMA_NOMBRE_LARGO</th>\n",
       "      <th>PROGRAMA_MODALIDAD_NOMBRE</th>\n",
       "      <th>PROGRAMA_NIVEL_NOMBRE</th>\n",
       "      <th>CURSOS</th>\n",
       "      <th>CURSOS_RETIRADOS</th>\n",
       "      <th>BECA_NOMBRE</th>\n",
       "      <th>BECA_PORCENTAJE</th>\n",
       "      <th>FINAL_NOTA</th>\n",
       "      <th>...</th>\n",
       "      <th>Cuáles son los ingresos familiares</th>\n",
       "      <th>Disciplina deportiva en la que participa</th>\n",
       "      <th>Fué declarado usted abanderado del pabellón nacional</th>\n",
       "      <th>Los ingresos provienen de</th>\n",
       "      <th>Monto de ingresos nominales familiares</th>\n",
       "      <th>Número de miembros del núcleo familiar (1°consanguinidad)</th>\n",
       "      <th>Porcentaje de discapacidad</th>\n",
       "      <th>Servicios médicos con los que cuenta la familia</th>\n",
       "      <th>Su núcleo familiar cuenta con alguna calamidad doméstica</th>\n",
       "      <th>Tipo de discapacidad que posee</th>\n",
       "    </tr>\n",
       "  </thead>\n",
       "  <tbody>\n",
       "    <tr>\n",
       "      <th>0</th>\n",
       "      <td>32</td>\n",
       "      <td>OCT/2022 - FEB/2023</td>\n",
       "      <td>PSICOLOGIA</td>\n",
       "      <td>DISTANCIA</td>\n",
       "      <td>GRADO</td>\n",
       "      <td>5</td>\n",
       "      <td>0</td>\n",
       "      <td>BECA NIVEL DE INGRESOS</td>\n",
       "      <td>40</td>\n",
       "      <td>9.81</td>\n",
       "      <td>...</td>\n",
       "      <td>0</td>\n",
       "      <td>Ninguno</td>\n",
       "      <td>No</td>\n",
       "      <td>Desconocido</td>\n",
       "      <td>0.0</td>\n",
       "      <td>0.0</td>\n",
       "      <td>0.0</td>\n",
       "      <td>Ninguno</td>\n",
       "      <td>Ninguno</td>\n",
       "      <td>Ninguna</td>\n",
       "    </tr>\n",
       "    <tr>\n",
       "      <th>1</th>\n",
       "      <td>32</td>\n",
       "      <td>OCT/2022 - FEB/2023</td>\n",
       "      <td>PSICOLOGIA</td>\n",
       "      <td>DISTANCIA</td>\n",
       "      <td>GRADO</td>\n",
       "      <td>5</td>\n",
       "      <td>0</td>\n",
       "      <td>BECA NIVEL DE INGRESOS</td>\n",
       "      <td>40</td>\n",
       "      <td>9.59</td>\n",
       "      <td>...</td>\n",
       "      <td>0</td>\n",
       "      <td>Ninguno</td>\n",
       "      <td>No</td>\n",
       "      <td>Desconocido</td>\n",
       "      <td>0.0</td>\n",
       "      <td>0.0</td>\n",
       "      <td>0.0</td>\n",
       "      <td>Ninguno</td>\n",
       "      <td>Ninguno</td>\n",
       "      <td>Ninguna</td>\n",
       "    </tr>\n",
       "  </tbody>\n",
       "</table>\n",
       "<p>2 rows × 24 columns</p>\n",
       "</div>"
      ],
      "text/plain": [
       "   ID       PERIODO_NOMBRE PROGRAMA_NOMBRE_LARGO PROGRAMA_MODALIDAD_NOMBRE  \\\n",
       "0  32  OCT/2022 - FEB/2023            PSICOLOGIA                 DISTANCIA   \n",
       "1  32  OCT/2022 - FEB/2023            PSICOLOGIA                 DISTANCIA   \n",
       "\n",
       "  PROGRAMA_NIVEL_NOMBRE  CURSOS  CURSOS_RETIRADOS             BECA_NOMBRE  \\\n",
       "0                 GRADO       5                 0  BECA NIVEL DE INGRESOS   \n",
       "1                 GRADO       5                 0  BECA NIVEL DE INGRESOS   \n",
       "\n",
       "   BECA_PORCENTAJE  FINAL_NOTA  ...  Cuáles son los ingresos familiares  \\\n",
       "0               40        9.81  ...                                   0   \n",
       "1               40        9.59  ...                                   0   \n",
       "\n",
       "  Disciplina deportiva en la que participa  \\\n",
       "0                                  Ninguno   \n",
       "1                                  Ninguno   \n",
       "\n",
       "   Fué declarado usted abanderado del pabellón nacional  \\\n",
       "0                                                 No      \n",
       "1                                                 No      \n",
       "\n",
       "   Los ingresos provienen de Monto de ingresos nominales familiares  \\\n",
       "0                Desconocido                                    0.0   \n",
       "1                Desconocido                                    0.0   \n",
       "\n",
       "  Número de miembros del núcleo familiar (1°consanguinidad)  \\\n",
       "0                                                0.0          \n",
       "1                                                0.0          \n",
       "\n",
       "  Porcentaje de discapacidad Servicios médicos con los que cuenta la familia  \\\n",
       "0                        0.0                                         Ninguno   \n",
       "1                        0.0                                         Ninguno   \n",
       "\n",
       "   Su núcleo familiar cuenta con alguna calamidad doméstica  \\\n",
       "0                                            Ninguno          \n",
       "1                                            Ninguno          \n",
       "\n",
       "   Tipo de discapacidad que posee  \n",
       "0                         Ninguna  \n",
       "1                         Ninguna  \n",
       "\n",
       "[2 rows x 24 columns]"
      ]
     },
     "execution_count": 15,
     "metadata": {},
     "output_type": "execute_result"
    }
   ],
   "source": [
    "data = pd.read_csv(\"dataCleanV5.csv\", sep=\",\",low_memory=False)\n",
    "data.head(2)"
   ]
  },
  {
   "cell_type": "code",
   "execution_count": 16,
   "id": "016d9717-30e3-45b8-9a03-7b59e63d8690",
   "metadata": {},
   "outputs": [],
   "source": [
    "# data.info()"
   ]
  },
  {
   "cell_type": "markdown",
   "id": "9f1caa8f-0873-40c7-9ccb-8176bee14bef",
   "metadata": {},
   "source": [
    "# Reemplazzar valores categóricos por valores numéricos representativos. DUMMIES\n"
   ]
  },
  {
   "cell_type": "markdown",
   "id": "baaf17fc-b65c-4e2b-8b22-4e9b5bded4cd",
   "metadata": {},
   "source": [
    "### Columna de ingresos familiares \n",
    "\n",
    "\n",
    "Discretización de valores ategóricos a numéricos  con el promedio de los dos valores mismos"
   ]
  },
  {
   "cell_type": "code",
   "execution_count": 17,
   "id": "a5a70067-979d-483a-b394-398637b695d2",
   "metadata": {},
   "outputs": [],
   "source": [
    "\n",
    "# Asegúrate de que todos los valores sean cadenas de texto\n",
    "data['Cuáles son los ingresos familiares'] = data['Cuáles son los ingresos familiares'].astype(str)\n",
    "\n",
    "# Limpia los espacios alrededor del guion\n",
    "data['Cuáles son los ingresos familiares'] = data['Cuáles son los ingresos familiares'].str.replace(r'\\s*-\\s*', ' - ', regex=True)\n",
    "\n",
    "# Diccionario de rangos a valores promedio\n",
    "ingresos_map = {\n",
    "    '0': 0,  # Para el caso de '0'\n",
    "    '0 - 500': 250,\n",
    "    '501 - 1000': 750,\n",
    "    '1001 - 1500': 1250,\n",
    "    '1501 - 2000': 1750,\n",
    "    '2001 - 3000': 2500,\n",
    "    'Mayor a 3000': 3500\n",
    "}\n",
    "\n",
    "# Reemplaza los valores en la columna\n",
    "data['ingresosPromedio'] = data['Cuáles son los ingresos familiares'].map(ingresos_map)\n",
    "\n",
    "# Convierte la nueva columna a float\n",
    "data['ingresosPromedio'] = data['ingresosPromedio'].astype(int)\n",
    "\n"
   ]
  },
  {
   "cell_type": "code",
   "execution_count": 18,
   "id": "bde79ac7-4e25-4926-8d7d-7361455c0b55",
   "metadata": {},
   "outputs": [
    {
     "data": {
      "text/plain": [
       "array([   0,  250, 1250,  750, 1750, 2500, 3500])"
      ]
     },
     "execution_count": 18,
     "metadata": {},
     "output_type": "execute_result"
    }
   ],
   "source": [
    "data['ingresosPromedio'].unique()"
   ]
  },
  {
   "cell_type": "markdown",
   "id": "4b357dfc-ff14-460e-8dca-04bbbfc4d344",
   "metadata": {},
   "source": [
    "\n",
    "### Asigna un número entero a cada categoría  \n",
    "- **Los ingresos provienen de**"
   ]
  },
  {
   "cell_type": "code",
   "execution_count": 19,
   "id": "02d71446-bb87-4574-b373-4fd686c8338e",
   "metadata": {},
   "outputs": [
    {
     "name": "stdout",
     "output_type": "stream",
     "text": [
      "['Desconocido' 'Negocio propio formal' 'Relación de dependencia'\n",
      " 'Otros ingresos (arriendos. pensiones. ayudas familiares)'\n",
      " 'Negocio propio informal' 'Por ayuda de los padres']\n",
      "[0 1 5 3 2 4]\n"
     ]
    }
   ],
   "source": [
    "#  columna original antes de la transformación\n",
    "data['Los ingresos provienen de_original'] = data['Los ingresos provienen de']\n",
    "\n",
    "# Aplica el LabelEncoder\n",
    "from sklearn.preprocessing import LabelEncoder\n",
    "le = LabelEncoder()\n",
    "data['fuenteIngresos'] = le.fit_transform(data['Los ingresos provienen de'])\n",
    "\n",
    "# Mostrar los valores únicos de la nueva columna codificada\n",
    "print(data['Los ingresos provienen de_original'].unique())\n",
    "\n",
    "print(data['fuenteIngresos'].unique())\n"
   ]
  },
  {
   "cell_type": "markdown",
   "id": "5131b66b-dc74-49cf-af76-b0569e94c694",
   "metadata": {},
   "source": [
    "# Agrupar becas por tipo Ingreso, Social y Mérito "
   ]
  },
  {
   "cell_type": "code",
   "execution_count": 20,
   "id": "20eef0e6-5189-4bc8-9bd2-6ae41cf316ed",
   "metadata": {},
   "outputs": [
    {
     "name": "stdout",
     "output_type": "stream",
     "text": [
      "['Ingreso' 'Social' 'Mérito']\n"
     ]
    }
   ],
   "source": [
    "# Mapeo para agrupar las becas en categorías\n",
    "becas_map = {\n",
    "    'BECA NIVEL DE INGRESOS': 'Ingreso',\n",
    "    'BECA DESEMPLEO': 'Ingreso',\n",
    "    'BECA FUNCIONARIOS': 'Ingreso',\n",
    "    'BECA PUEBLOS Y NACIONALIDADES DEL ECUADOR': 'Ingreso',\n",
    "    'BECA DISCAPACIDAD': 'Social',\n",
    "    'BECA FAMILIAR ESTUDIANTES': 'Social',\n",
    "    'BECA HIJOS DE HEROES Y HEROINAS': 'Social',\n",
    "    'BECA FAMILIAR HIJO DE DOCENTE': 'Social',\n",
    "    'BECA FAMILIAR ADMINISTRATIVO Y REPRESENTANTE DEL CONSEJO SUPERIOR GRADO': 'Social',\n",
    "    'BECA DEPORTISTAS DESTACADOS': 'Mérito',\n",
    "    'BECA CULTURAL': 'Mérito',\n",
    "    'BECA MERITOS UNIVERSITARIOS': 'Mérito',\n",
    "    'BECA CLUB UNIVERSITARIO': 'Mérito',\n",
    "    'BECA ABANDERADOS': 'Mérito',\n",
    "    'BECA BACHILLERES DESTACADOS': 'Mérito',\n",
    "    'BECA POLITICA DE CUOTAS': 'Social',\n",
    "    'BECA RESPONSABILIDAD UNIVERSITARIA GRADO': 'Social',\n",
    "    'BECA REPRESENTACION ESTUDIANTIL GRADO': 'Social',\n",
    "    'BECA MOVILIDAD ESTUDIANTIL GRADO': 'Social',\n",
    "    'BECA DIOCESIS DEL PAIS (OTRAS TITULACIONES)': 'Social',\n",
    "    'BECA DIOCESIS TITULACIONES: CIENCIAS HUMANAS Y RELIGIOSAS/ RELIGIÓN': 'Social',\n",
    "    'BECA DIOCESIS DE LOJA (OTRAS TITULACIONES)': 'Social',\n",
    "    'BECA CENTROS DE REHABILITACION SOCIAL (Privados de la libertad)': 'Social'\n",
    "}\n",
    "\n",
    "# Aplicar el mapeo\n",
    "data['tipo_beca'] = data['BECA_NOMBRE'].map(becas_map)\n",
    "\n",
    "# Verificar los resultados para ver si hay algún NaN\n",
    "print(data['tipo_beca'].unique())\n",
    "\n",
    "# Aplicar pd.get_dummies para convertir la columna 'tipo_beca' en columnas binarias\n",
    "data = pd.get_dummies(data, columns=['tipo_beca'], prefix='BECA', drop_first=False)\n",
    "\n",
    "# Verificar las columnas generadas\n",
    "# print(data.columns)\n"
   ]
  },
  {
   "cell_type": "code",
   "execution_count": 21,
   "id": "f55fab6e-92fe-4c00-b36b-2bbd618ef713",
   "metadata": {},
   "outputs": [
    {
     "name": "stdout",
     "output_type": "stream",
     "text": [
      "Index(['ID', 'PERIODO_NOMBRE', 'PROGRAMA_NOMBRE_LARGO',\n",
      "       'PROGRAMA_MODALIDAD_NOMBRE', 'PROGRAMA_NIVEL_NOMBRE', 'CURSOS',\n",
      "       'CURSOS_RETIRADOS', 'BECA_NOMBRE', 'BECA_PORCENTAJE', 'FINAL_NOTA',\n",
      "       'TOTALFIN_NOTA', 'ESTADO_CALIFICACION', 'BIM2_NOTA', 'BIM1_NOTA',\n",
      "       'Cuáles son los ingresos familiares',\n",
      "       'Disciplina deportiva en la que participa',\n",
      "       'Fué declarado usted abanderado del pabellón nacional',\n",
      "       'Los ingresos provienen de', 'Monto de ingresos nominales familiares',\n",
      "       'Número de miembros del núcleo familiar (1°consanguinidad)',\n",
      "       'Porcentaje de discapacidad',\n",
      "       'Servicios médicos con los que cuenta la familia',\n",
      "       'Su núcleo familiar cuenta con alguna calamidad doméstica',\n",
      "       'ingresosPromedio', 'Los ingresos provienen de_original',\n",
      "       'fuenteIngresos', 'BECA_Ingreso', 'BECA_Mérito', 'BECA_Social',\n",
      "       'dis_Auditiva', 'dis_Física', 'dis_Intelectual', 'dis_Lenguaje',\n",
      "       'dis_Multidiscapacidades', 'dis_Ninguna', 'dis_Psicosocial',\n",
      "       'dis_Visual'],\n",
      "      dtype='object')\n"
     ]
    }
   ],
   "source": [
    "# Aplicar pd.get_dummies para convertir la columna 'Tipo de discapacidad que posee' en columnas binarias\n",
    "data = pd.get_dummies(data, columns=['Tipo de discapacidad que posee'], prefix='dis', drop_first=False)\n",
    "\n",
    "# Verificar las columnas generadas\n",
    "print(data.columns)\n"
   ]
  },
  {
   "cell_type": "code",
   "execution_count": 22,
   "id": "0ee40dcf-5dbb-44a7-b63e-f1e1bf0f8ac5",
   "metadata": {},
   "outputs": [],
   "source": [
    "# '_Beca Ingreso','_Beca Mérito','_Beca Social'"
   ]
  },
  {
   "cell_type": "code",
   "execution_count": 23,
   "id": "d5d257b2-d05f-4668-b10e-6823a6389ce5",
   "metadata": {},
   "outputs": [
    {
     "name": "stdout",
     "output_type": "stream",
     "text": [
      "[0 1]\n"
     ]
    }
   ],
   "source": [
    "# Crear una nueva columna con 1 para los que tienen un deporte y 0 para los que tienen \"Ninguno\"\n",
    "data['participa_en_deporte'] = data['Disciplina deportiva en la que participa'].apply(lambda x: 1 if x != 'Ninguno' else 0)\n",
    "\n",
    "# Verificar los resultados\n",
    "print(data['participa_en_deporte'].unique())"
   ]
  },
  {
   "cell_type": "markdown",
   "id": "c5977370-56d8-49d3-ba03-7e404d956abf",
   "metadata": {},
   "source": [
    "\n",
    "## Conversión de valores"
   ]
  },
  {
   "cell_type": "code",
   "execution_count": 24,
   "id": "3ee729c0-f14f-447b-a159-901960d5f75f",
   "metadata": {},
   "outputs": [
    {
     "name": "stdout",
     "output_type": "stream",
     "text": [
      "[0 1]\n"
     ]
    }
   ],
   "source": [
    "# Crear una nueva columna con 1 para los que tienen un deporte y 0 para los que tienen \"Ninguno\"\n",
    "data['calamidadDomestica'] = data['Su núcleo familiar cuenta con alguna calamidad doméstica'].apply(lambda x: 1 if x != 'Ninguno' else 0)\n",
    "\n",
    "# Verificar los resultados\n",
    "print(data['calamidadDomestica'].unique())"
   ]
  },
  {
   "cell_type": "markdown",
   "id": "e7a15d2f-fb54-4746-8a39-61745dfc64a3",
   "metadata": {},
   "source": [
    "## Conversión de valores binarios"
   ]
  },
  {
   "cell_type": "code",
   "execution_count": 25,
   "id": "c793a3f4-96ff-4f6d-864a-6b77b8f9c206",
   "metadata": {},
   "outputs": [
    {
     "name": "stderr",
     "output_type": "stream",
     "text": [
      "/var/folders/3n/wr348_g54y3dnpq24d5zdn9w0000gn/T/ipykernel_2937/1715377763.py:1: FutureWarning: Downcasting behavior in `replace` is deprecated and will be removed in a future version. To retain the old behavior, explicitly call `result.infer_objects(copy=False)`. To opt-in to the future behavior, set `pd.set_option('future.no_silent_downcasting', True)`\n",
      "  data = data.replace({'SI': 1, 'NO': 0, 'Si': 1, 'No': 0})\n"
     ]
    }
   ],
   "source": [
    "data = data.replace({'SI': 1, 'NO': 0, 'Si': 1, 'No': 0})\n",
    "data = data.infer_objects(copy=False)"
   ]
  },
  {
   "cell_type": "markdown",
   "id": "82d79e12-ee9a-4719-957e-68654bf41a69",
   "metadata": {},
   "source": [
    "### Aprobado o reprobado a valores binarios"
   ]
  },
  {
   "cell_type": "code",
   "execution_count": 26,
   "id": "5bb188b7-e570-40ec-bdc5-99f5808d650b",
   "metadata": {},
   "outputs": [],
   "source": [
    "data['ESTADO_CALIFICACION'] = data['ESTADO_CALIFICACION'].apply(lambda x: 1 if x == 'Aprobado' else 0)\n"
   ]
  },
  {
   "cell_type": "code",
   "execution_count": 27,
   "id": "a6d36246-363e-4f13-93b8-04bfd2a8710c",
   "metadata": {},
   "outputs": [
    {
     "name": "stdout",
     "output_type": "stream",
     "text": [
      "<class 'pandas.core.frame.DataFrame'>\n",
      "RangeIndex: 581184 entries, 0 to 581183\n",
      "Data columns (total 39 columns):\n",
      " #   Column                                                     Non-Null Count   Dtype  \n",
      "---  ------                                                     --------------   -----  \n",
      " 0   ID                                                         581184 non-null  int64  \n",
      " 1   PERIODO_NOMBRE                                             581184 non-null  object \n",
      " 2   PROGRAMA_NOMBRE_LARGO                                      581184 non-null  object \n",
      " 3   PROGRAMA_MODALIDAD_NOMBRE                                  581184 non-null  object \n",
      " 4   PROGRAMA_NIVEL_NOMBRE                                      581184 non-null  object \n",
      " 5   CURSOS                                                     581184 non-null  int64  \n",
      " 6   CURSOS_RETIRADOS                                           581184 non-null  int64  \n",
      " 7   BECA_NOMBRE                                                581184 non-null  object \n",
      " 8   BECA_PORCENTAJE                                            581184 non-null  int64  \n",
      " 9   FINAL_NOTA                                                 581184 non-null  float64\n",
      " 10  TOTALFIN_NOTA                                              581184 non-null  float64\n",
      " 11  ESTADO_CALIFICACION                                        581184 non-null  int64  \n",
      " 12  BIM2_NOTA                                                  581184 non-null  float64\n",
      " 13  BIM1_NOTA                                                  581184 non-null  float64\n",
      " 14  Cuáles son los ingresos familiares                         581184 non-null  object \n",
      " 15  Disciplina deportiva en la que participa                   581184 non-null  object \n",
      " 16  Fué declarado usted abanderado del pabellón nacional       581184 non-null  int64  \n",
      " 17  Los ingresos provienen de                                  581184 non-null  object \n",
      " 18  Monto de ingresos nominales familiares                     581184 non-null  float64\n",
      " 19  Número de miembros del núcleo familiar (1°consanguinidad)  581184 non-null  float64\n",
      " 20  Porcentaje de discapacidad                                 581184 non-null  float64\n",
      " 21  Servicios médicos con los que cuenta la familia            581184 non-null  object \n",
      " 22  Su núcleo familiar cuenta con alguna calamidad doméstica   581184 non-null  object \n",
      " 23  ingresosPromedio                                           581184 non-null  int64  \n",
      " 24  Los ingresos provienen de_original                         581184 non-null  object \n",
      " 25  fuenteIngresos                                             581184 non-null  int64  \n",
      " 26  BECA_Ingreso                                               581184 non-null  bool   \n",
      " 27  BECA_Mérito                                                581184 non-null  bool   \n",
      " 28  BECA_Social                                                581184 non-null  bool   \n",
      " 29  dis_Auditiva                                               581184 non-null  bool   \n",
      " 30  dis_Física                                                 581184 non-null  bool   \n",
      " 31  dis_Intelectual                                            581184 non-null  bool   \n",
      " 32  dis_Lenguaje                                               581184 non-null  bool   \n",
      " 33  dis_Multidiscapacidades                                    581184 non-null  bool   \n",
      " 34  dis_Ninguna                                                581184 non-null  bool   \n",
      " 35  dis_Psicosocial                                            581184 non-null  bool   \n",
      " 36  dis_Visual                                                 581184 non-null  bool   \n",
      " 37  participa_en_deporte                                       581184 non-null  int64  \n",
      " 38  calamidadDomestica                                         581184 non-null  int64  \n",
      "dtypes: bool(11), float64(7), int64(10), object(11)\n",
      "memory usage: 130.3+ MB\n"
     ]
    }
   ],
   "source": [
    "data.info()"
   ]
  },
  {
   "cell_type": "markdown",
   "id": "1a9af2e4-2efa-4f4d-a0ee-310da141bd28",
   "metadata": {},
   "source": [
    "### 1. ESTUDIANTE_CARRERA_NIVEL"
   ]
  },
  {
   "cell_type": "code",
   "execution_count": 28,
   "id": "877494f3-8b4b-4eef-8f62-e948ca1f2db4",
   "metadata": {},
   "outputs": [],
   "source": [
    "# O convertir a binario\n",
    "data['PROGRAMA_NIVEL_NOMBRE'] = data['PROGRAMA_NIVEL_NOMBRE'].map({'GRADO': 0, 'TECNICO TECNOLOGICO': 1})\n"
   ]
  },
  {
   "cell_type": "markdown",
   "id": "c7947702-f2e0-4a39-b2b0-4e567347115e",
   "metadata": {},
   "source": [
    "### 2. ESTUDIANTE_CARRERA_MODALIDAD"
   ]
  },
  {
   "cell_type": "code",
   "execution_count": 29,
   "id": "c69e6d7a-2ec9-40ea-a2db-c8cef2d313c1",
   "metadata": {},
   "outputs": [],
   "source": [
    "# Convertir a tipo categórico\n",
    "data['PROGRAMA_MODALIDAD_NOMBRE'] = data['PROGRAMA_MODALIDAD_NOMBRE'].map({'DISTANCIA': 0, 'PRESENCIAL': 1})\n"
   ]
  },
  {
   "cell_type": "markdown",
   "id": "92332abf-361b-47b7-963e-1861fd772b94",
   "metadata": {},
   "source": [
    "## 3. Tratamiento de la columna de carreras "
   ]
  },
  {
   "cell_type": "code",
   "execution_count": 30,
   "id": "ddfedebb-cbfe-4b24-8a63-a1f2b01496db",
   "metadata": {},
   "outputs": [
    {
     "name": "stdout",
     "output_type": "stream",
     "text": [
      "Carreras más frecuentes: Index(['DERECHO', 'PSICOLOGIA', 'ARQUITECTURA'], dtype='object', name='PROGRAMA_NOMBRE_LARGO')\n"
     ]
    }
   ],
   "source": [
    "# Contar las frecuencias de cada carrera\n",
    "frecuencias = data['PROGRAMA_NOMBRE_LARGO'].value_counts()\n",
    "\n",
    "# Seleccionar un umbral para las carreras más frecuentes (e.g., las 3 más comunes)\n",
    "umbral = 3\n",
    "carreras_frecuentes = frecuencias.nlargest(umbral).index\n",
    "# print(\"Carreras s:\", dataUnido['ESTUDIANTE_CARRERA_NOMBRE'].value_counts())\n",
    "print(\"Carreras más frecuentes:\", carreras_frecuentes)\n"
   ]
  },
  {
   "cell_type": "code",
   "execution_count": 31,
   "id": "a877850c-7e91-4fd2-bfd1-8facfb1ecd8c",
   "metadata": {},
   "outputs": [
    {
     "name": "stdout",
     "output_type": "stream",
     "text": [
      "['PSICOLOGIA' 'DERECHO' 'ARQUITECTURA' 'OTRAS']\n"
     ]
    }
   ],
   "source": [
    "# Reemplazar las carreras menos frecuentes con \"OTRAS\"\n",
    "data['PROGRAMA_NOMBRE_LARGO'] = data['PROGRAMA_NOMBRE_LARGO'].apply(\n",
    "    lambda x: x if x in carreras_frecuentes else 'OTRAS'\n",
    ")\n",
    "\n",
    "# Verificar las categorías resultantes\n",
    "print(data['PROGRAMA_NOMBRE_LARGO'].unique())\n"
   ]
  },
  {
   "cell_type": "markdown",
   "id": "f6a746bb-3f58-48f2-a09d-8e725089bd48",
   "metadata": {},
   "source": [
    "#### Aplicar One-Hot Encoding a la columna agrupada: de carreras\n"
   ]
  },
  {
   "cell_type": "code",
   "execution_count": 32,
   "id": "e892eb37-6094-4ba3-ae54-b53ec4ed628f",
   "metadata": {},
   "outputs": [],
   "source": [
    "# Crear variables dummies para las carreras\n",
    "data = pd.get_dummies(data, columns=['PROGRAMA_NOMBRE_LARGO'], prefix='CARRERA')\n"
   ]
  },
  {
   "cell_type": "markdown",
   "id": "89677981-e1e3-48c7-a20c-ca2bbfb12e82",
   "metadata": {},
   "source": [
    "## 4. Tratamiento de la columna de años PERIODO NOMBRE "
   ]
  },
  {
   "cell_type": "code",
   "execution_count": 33,
   "id": "4051e5de-2133-40d2-bcf4-95757a5c10ba",
   "metadata": {},
   "outputs": [
    {
     "name": "stdout",
     "output_type": "stream",
     "text": [
      "0    2022\n",
      "0    2023\n",
      "1    2022\n",
      "1    2023\n",
      "2    2022\n",
      "Name: periodoAños, dtype: int64\n"
     ]
    }
   ],
   "source": [
    "# Extraer los años de inicio y fin como listas\n",
    "data['periodoAñoInicio'] = data['PERIODO_NOMBRE'].str.extract(r'(\\d{4})', expand=False)\n",
    "data['periodoAñoFin'] = data['PERIODO_NOMBRE'].str.extract(r'(\\d{4})$', expand=False)\n",
    "\n",
    "# Convertir las columnas de años a enteros y manejar valores nulos\n",
    "data['periodoAñoInicio'] = data['periodoAñoInicio'].fillna(0).astype(int)\n",
    "data['periodoAñoFin'] = data['periodoAñoFin'].fillna(0).astype(int)\n",
    "\n",
    "# Crear la columna 'periodoAños' con los años dentro del rango\n",
    "data['periodoAños'] = data.apply(\n",
    "    lambda row: list(range(row['periodoAñoInicio'], row['periodoAñoFin'] + 1)),\n",
    "    axis=1\n",
    ")\n",
    "\n",
    "# Explode para separar los años en filas individuales\n",
    "data = data.explode('periodoAños')\n",
    "\n",
    "# Asegurarte de que la columna 'periodoAños' sea de tipo entero\n",
    "data['periodoAños'] = data['periodoAños'].astype(int)\n",
    "\n",
    "# Verificar la nueva columna con los años individuales y su tipo\n",
    "print(data['periodoAños'].head())\n",
    "# print(data_expanded['periodoAños'].dtype)\n"
   ]
  },
  {
   "cell_type": "markdown",
   "id": "e48f09ab-f753-4d73-95f5-a71f122817f8",
   "metadata": {},
   "source": [
    "### 5. Servicios médicos con los que cuenta la familia a binarios"
   ]
  },
  {
   "cell_type": "code",
   "execution_count": 34,
   "id": "c5aa381d-2efb-4871-bcd5-c4085a16b0e6",
   "metadata": {},
   "outputs": [
    {
     "name": "stdout",
     "output_type": "stream",
     "text": [
      "[0 1]\n"
     ]
    }
   ],
   "source": [
    "# Crear una nueva columna con 1 para los que tienen un deporte y 0 para los que tienen \"Ninguno\"\n",
    "data['servicioMedico'] = data['Servicios médicos con los que cuenta la familia'].apply(lambda x: 1 if x != 'Ninguno' else 0)\n",
    "\n",
    "# Verificar los resultados\n",
    "print(data['servicioMedico'].unique())"
   ]
  },
  {
   "cell_type": "markdown",
   "id": "4438bb50-8936-4d1c-8055-4ceeee4b87c0",
   "metadata": {},
   "source": [
    "# Eliminar variables transformadas a numérico"
   ]
  },
  {
   "cell_type": "code",
   "execution_count": 35,
   "id": "5fefb84f-f6cf-4222-84db-b3e33fbb6760",
   "metadata": {},
   "outputs": [],
   "source": [
    "# Eliminar las columnas especificadas\n",
    "data1 = data.drop(columns=['PERIODO_NOMBRE','BECA_NOMBRE','Cuáles son los ingresos familiares','Disciplina deportiva en la que participa','Los ingresos provienen de','Su núcleo familiar cuenta con alguna calamidad doméstica','Servicios médicos con los que cuenta la familia','Los ingresos provienen de_original'])\n"
   ]
  },
  {
   "cell_type": "code",
   "execution_count": 36,
   "id": "07bf8884-23ee-4231-acec-7de6290070e2",
   "metadata": {},
   "outputs": [
    {
     "name": "stdout",
     "output_type": "stream",
     "text": [
      "<class 'pandas.core.frame.DataFrame'>\n",
      "Index: 926102 entries, 0 to 581183\n",
      "Data columns (total 38 columns):\n",
      " #   Column                                                     Non-Null Count   Dtype  \n",
      "---  ------                                                     --------------   -----  \n",
      " 0   ID                                                         926102 non-null  int64  \n",
      " 1   PROGRAMA_MODALIDAD_NOMBRE                                  926102 non-null  int64  \n",
      " 2   PROGRAMA_NIVEL_NOMBRE                                      926102 non-null  int64  \n",
      " 3   CURSOS                                                     926102 non-null  int64  \n",
      " 4   CURSOS_RETIRADOS                                           926102 non-null  int64  \n",
      " 5   BECA_PORCENTAJE                                            926102 non-null  int64  \n",
      " 6   FINAL_NOTA                                                 926102 non-null  float64\n",
      " 7   TOTALFIN_NOTA                                              926102 non-null  float64\n",
      " 8   ESTADO_CALIFICACION                                        926102 non-null  int64  \n",
      " 9   BIM2_NOTA                                                  926102 non-null  float64\n",
      " 10  BIM1_NOTA                                                  926102 non-null  float64\n",
      " 11  Fué declarado usted abanderado del pabellón nacional       926102 non-null  int64  \n",
      " 12  Monto de ingresos nominales familiares                     926102 non-null  float64\n",
      " 13  Número de miembros del núcleo familiar (1°consanguinidad)  926102 non-null  float64\n",
      " 14  Porcentaje de discapacidad                                 926102 non-null  float64\n",
      " 15  ingresosPromedio                                           926102 non-null  int64  \n",
      " 16  fuenteIngresos                                             926102 non-null  int64  \n",
      " 17  BECA_Ingreso                                               926102 non-null  bool   \n",
      " 18  BECA_Mérito                                                926102 non-null  bool   \n",
      " 19  BECA_Social                                                926102 non-null  bool   \n",
      " 20  dis_Auditiva                                               926102 non-null  bool   \n",
      " 21  dis_Física                                                 926102 non-null  bool   \n",
      " 22  dis_Intelectual                                            926102 non-null  bool   \n",
      " 23  dis_Lenguaje                                               926102 non-null  bool   \n",
      " 24  dis_Multidiscapacidades                                    926102 non-null  bool   \n",
      " 25  dis_Ninguna                                                926102 non-null  bool   \n",
      " 26  dis_Psicosocial                                            926102 non-null  bool   \n",
      " 27  dis_Visual                                                 926102 non-null  bool   \n",
      " 28  participa_en_deporte                                       926102 non-null  int64  \n",
      " 29  calamidadDomestica                                         926102 non-null  int64  \n",
      " 30  CARRERA_ARQUITECTURA                                       926102 non-null  bool   \n",
      " 31  CARRERA_DERECHO                                            926102 non-null  bool   \n",
      " 32  CARRERA_OTRAS                                              926102 non-null  bool   \n",
      " 33  CARRERA_PSICOLOGIA                                         926102 non-null  bool   \n",
      " 34  periodoAñoInicio                                           926102 non-null  int64  \n",
      " 35  periodoAñoFin                                              926102 non-null  int64  \n",
      " 36  periodoAños                                                926102 non-null  int64  \n",
      " 37  servicioMedico                                             926102 non-null  int64  \n",
      "dtypes: bool(15), float64(7), int64(16)\n",
      "memory usage: 182.8 MB\n"
     ]
    }
   ],
   "source": [
    "data1.info()"
   ]
  },
  {
   "cell_type": "code",
   "execution_count": 37,
   "id": "c967562f-794e-47e4-b941-3cfcfcd84c94",
   "metadata": {},
   "outputs": [
    {
     "data": {
      "text/html": [
       "<div>\n",
       "<style scoped>\n",
       "    .dataframe tbody tr th:only-of-type {\n",
       "        vertical-align: middle;\n",
       "    }\n",
       "\n",
       "    .dataframe tbody tr th {\n",
       "        vertical-align: top;\n",
       "    }\n",
       "\n",
       "    .dataframe thead th {\n",
       "        text-align: right;\n",
       "    }\n",
       "</style>\n",
       "<table border=\"1\" class=\"dataframe\">\n",
       "  <thead>\n",
       "    <tr style=\"text-align: right;\">\n",
       "      <th></th>\n",
       "      <th>ID</th>\n",
       "      <th>PROGRAMA_MODALIDAD_NOMBRE</th>\n",
       "      <th>PROGRAMA_NIVEL_NOMBRE</th>\n",
       "      <th>CURSOS</th>\n",
       "      <th>CURSOS_RETIRADOS</th>\n",
       "      <th>BECA_PORCENTAJE</th>\n",
       "      <th>FINAL_NOTA</th>\n",
       "      <th>TOTALFIN_NOTA</th>\n",
       "      <th>ESTADO_CALIFICACION</th>\n",
       "      <th>BIM2_NOTA</th>\n",
       "      <th>...</th>\n",
       "      <th>participa_en_deporte</th>\n",
       "      <th>calamidadDomestica</th>\n",
       "      <th>CARRERA_ARQUITECTURA</th>\n",
       "      <th>CARRERA_DERECHO</th>\n",
       "      <th>CARRERA_OTRAS</th>\n",
       "      <th>CARRERA_PSICOLOGIA</th>\n",
       "      <th>periodoAñoInicio</th>\n",
       "      <th>periodoAñoFin</th>\n",
       "      <th>periodoAños</th>\n",
       "      <th>servicioMedico</th>\n",
       "    </tr>\n",
       "  </thead>\n",
       "  <tbody>\n",
       "    <tr>\n",
       "      <th>0</th>\n",
       "      <td>32</td>\n",
       "      <td>0</td>\n",
       "      <td>0</td>\n",
       "      <td>5</td>\n",
       "      <td>0</td>\n",
       "      <td>40</td>\n",
       "      <td>9.81</td>\n",
       "      <td>9.81</td>\n",
       "      <td>1</td>\n",
       "      <td>9.67</td>\n",
       "      <td>...</td>\n",
       "      <td>0</td>\n",
       "      <td>0</td>\n",
       "      <td>False</td>\n",
       "      <td>False</td>\n",
       "      <td>False</td>\n",
       "      <td>True</td>\n",
       "      <td>2022</td>\n",
       "      <td>2023</td>\n",
       "      <td>2022</td>\n",
       "      <td>0</td>\n",
       "    </tr>\n",
       "    <tr>\n",
       "      <th>0</th>\n",
       "      <td>32</td>\n",
       "      <td>0</td>\n",
       "      <td>0</td>\n",
       "      <td>5</td>\n",
       "      <td>0</td>\n",
       "      <td>40</td>\n",
       "      <td>9.81</td>\n",
       "      <td>9.81</td>\n",
       "      <td>1</td>\n",
       "      <td>9.67</td>\n",
       "      <td>...</td>\n",
       "      <td>0</td>\n",
       "      <td>0</td>\n",
       "      <td>False</td>\n",
       "      <td>False</td>\n",
       "      <td>False</td>\n",
       "      <td>True</td>\n",
       "      <td>2022</td>\n",
       "      <td>2023</td>\n",
       "      <td>2023</td>\n",
       "      <td>0</td>\n",
       "    </tr>\n",
       "    <tr>\n",
       "      <th>1</th>\n",
       "      <td>32</td>\n",
       "      <td>0</td>\n",
       "      <td>0</td>\n",
       "      <td>5</td>\n",
       "      <td>0</td>\n",
       "      <td>40</td>\n",
       "      <td>9.59</td>\n",
       "      <td>9.59</td>\n",
       "      <td>1</td>\n",
       "      <td>9.45</td>\n",
       "      <td>...</td>\n",
       "      <td>0</td>\n",
       "      <td>0</td>\n",
       "      <td>False</td>\n",
       "      <td>False</td>\n",
       "      <td>False</td>\n",
       "      <td>True</td>\n",
       "      <td>2022</td>\n",
       "      <td>2023</td>\n",
       "      <td>2022</td>\n",
       "      <td>0</td>\n",
       "    </tr>\n",
       "    <tr>\n",
       "      <th>1</th>\n",
       "      <td>32</td>\n",
       "      <td>0</td>\n",
       "      <td>0</td>\n",
       "      <td>5</td>\n",
       "      <td>0</td>\n",
       "      <td>40</td>\n",
       "      <td>9.59</td>\n",
       "      <td>9.59</td>\n",
       "      <td>1</td>\n",
       "      <td>9.45</td>\n",
       "      <td>...</td>\n",
       "      <td>0</td>\n",
       "      <td>0</td>\n",
       "      <td>False</td>\n",
       "      <td>False</td>\n",
       "      <td>False</td>\n",
       "      <td>True</td>\n",
       "      <td>2022</td>\n",
       "      <td>2023</td>\n",
       "      <td>2023</td>\n",
       "      <td>0</td>\n",
       "    </tr>\n",
       "    <tr>\n",
       "      <th>2</th>\n",
       "      <td>32</td>\n",
       "      <td>0</td>\n",
       "      <td>0</td>\n",
       "      <td>5</td>\n",
       "      <td>0</td>\n",
       "      <td>40</td>\n",
       "      <td>9.06</td>\n",
       "      <td>9.06</td>\n",
       "      <td>1</td>\n",
       "      <td>9.11</td>\n",
       "      <td>...</td>\n",
       "      <td>0</td>\n",
       "      <td>0</td>\n",
       "      <td>False</td>\n",
       "      <td>False</td>\n",
       "      <td>False</td>\n",
       "      <td>True</td>\n",
       "      <td>2022</td>\n",
       "      <td>2023</td>\n",
       "      <td>2022</td>\n",
       "      <td>0</td>\n",
       "    </tr>\n",
       "  </tbody>\n",
       "</table>\n",
       "<p>5 rows × 38 columns</p>\n",
       "</div>"
      ],
      "text/plain": [
       "   ID  PROGRAMA_MODALIDAD_NOMBRE  PROGRAMA_NIVEL_NOMBRE  CURSOS  \\\n",
       "0  32                          0                      0       5   \n",
       "0  32                          0                      0       5   \n",
       "1  32                          0                      0       5   \n",
       "1  32                          0                      0       5   \n",
       "2  32                          0                      0       5   \n",
       "\n",
       "   CURSOS_RETIRADOS  BECA_PORCENTAJE  FINAL_NOTA  TOTALFIN_NOTA  \\\n",
       "0                 0               40        9.81           9.81   \n",
       "0                 0               40        9.81           9.81   \n",
       "1                 0               40        9.59           9.59   \n",
       "1                 0               40        9.59           9.59   \n",
       "2                 0               40        9.06           9.06   \n",
       "\n",
       "   ESTADO_CALIFICACION  BIM2_NOTA  ...  participa_en_deporte  \\\n",
       "0                    1       9.67  ...                     0   \n",
       "0                    1       9.67  ...                     0   \n",
       "1                    1       9.45  ...                     0   \n",
       "1                    1       9.45  ...                     0   \n",
       "2                    1       9.11  ...                     0   \n",
       "\n",
       "   calamidadDomestica  CARRERA_ARQUITECTURA  CARRERA_DERECHO  CARRERA_OTRAS  \\\n",
       "0                   0                 False            False          False   \n",
       "0                   0                 False            False          False   \n",
       "1                   0                 False            False          False   \n",
       "1                   0                 False            False          False   \n",
       "2                   0                 False            False          False   \n",
       "\n",
       "   CARRERA_PSICOLOGIA  periodoAñoInicio  periodoAñoFin  periodoAños  \\\n",
       "0                True              2022           2023         2022   \n",
       "0                True              2022           2023         2023   \n",
       "1                True              2022           2023         2022   \n",
       "1                True              2022           2023         2023   \n",
       "2                True              2022           2023         2022   \n",
       "\n",
       "   servicioMedico  \n",
       "0               0  \n",
       "0               0  \n",
       "1               0  \n",
       "1               0  \n",
       "2               0  \n",
       "\n",
       "[5 rows x 38 columns]"
      ]
     },
     "execution_count": 37,
     "metadata": {},
     "output_type": "execute_result"
    }
   ],
   "source": [
    "data1.head()"
   ]
  },
  {
   "cell_type": "code",
   "execution_count": 38,
   "id": "e166ad3f-8f92-4a2c-863b-e1cced0db816",
   "metadata": {},
   "outputs": [],
   "source": [
    "# Filtrar las columnas de tipo objeto (categóricas)\n",
    "obj_columns = data1.select_dtypes(include=['object'])\n",
    "\n",
    "# Mostrar los valores únicos de cada columna de tipo objeto\n",
    "for col in obj_columns.columns:\n",
    "    print(f\"Valores únicos de la columna {col}:\")\n",
    "    print(obj_columns[col].unique())\n",
    "    print(\"\\n\")\n"
   ]
  },
  {
   "cell_type": "code",
   "execution_count": 43,
   "id": "5d3b0a3a-408a-48a4-a47f-1b0dbf15ea33",
   "metadata": {},
   "outputs": [],
   "source": [
    "dataUnido = data1.astype({col: 'int' for col in data.select_dtypes(include=['bool']).columns})\n",
    "\n",
    "# Guardar el DataFrame resultante en un archivo CSV\n",
    "dataUnido.to_csv('dataDummiesV5.csv', index=False, sep=\";\")\n"
   ]
  },
  {
   "cell_type": "code",
   "execution_count": 44,
   "id": "7f30846e-880f-4256-9aca-e1e8f9f23986",
   "metadata": {},
   "outputs": [
    {
     "name": "stdout",
     "output_type": "stream",
     "text": [
      "<class 'pandas.core.frame.DataFrame'>\n",
      "Index: 926102 entries, 0 to 581183\n",
      "Data columns (total 38 columns):\n",
      " #   Column                                                     Non-Null Count   Dtype  \n",
      "---  ------                                                     --------------   -----  \n",
      " 0   ID                                                         926102 non-null  int64  \n",
      " 1   PROGRAMA_MODALIDAD_NOMBRE                                  926102 non-null  int64  \n",
      " 2   PROGRAMA_NIVEL_NOMBRE                                      926102 non-null  int64  \n",
      " 3   CURSOS                                                     926102 non-null  int64  \n",
      " 4   CURSOS_RETIRADOS                                           926102 non-null  int64  \n",
      " 5   BECA_PORCENTAJE                                            926102 non-null  int64  \n",
      " 6   FINAL_NOTA                                                 926102 non-null  float64\n",
      " 7   TOTALFIN_NOTA                                              926102 non-null  float64\n",
      " 8   ESTADO_CALIFICACION                                        926102 non-null  int64  \n",
      " 9   BIM2_NOTA                                                  926102 non-null  float64\n",
      " 10  BIM1_NOTA                                                  926102 non-null  float64\n",
      " 11  Fué declarado usted abanderado del pabellón nacional       926102 non-null  int64  \n",
      " 12  Monto de ingresos nominales familiares                     926102 non-null  float64\n",
      " 13  Número de miembros del núcleo familiar (1°consanguinidad)  926102 non-null  float64\n",
      " 14  Porcentaje de discapacidad                                 926102 non-null  float64\n",
      " 15  ingresosPromedio                                           926102 non-null  int64  \n",
      " 16  fuenteIngresos                                             926102 non-null  int64  \n",
      " 17  BECA_Ingreso                                               926102 non-null  int64  \n",
      " 18  BECA_Mérito                                                926102 non-null  int64  \n",
      " 19  BECA_Social                                                926102 non-null  int64  \n",
      " 20  dis_Auditiva                                               926102 non-null  int64  \n",
      " 21  dis_Física                                                 926102 non-null  int64  \n",
      " 22  dis_Intelectual                                            926102 non-null  int64  \n",
      " 23  dis_Lenguaje                                               926102 non-null  int64  \n",
      " 24  dis_Multidiscapacidades                                    926102 non-null  int64  \n",
      " 25  dis_Ninguna                                                926102 non-null  int64  \n",
      " 26  dis_Psicosocial                                            926102 non-null  int64  \n",
      " 27  dis_Visual                                                 926102 non-null  int64  \n",
      " 28  participa_en_deporte                                       926102 non-null  int64  \n",
      " 29  calamidadDomestica                                         926102 non-null  int64  \n",
      " 30  CARRERA_ARQUITECTURA                                       926102 non-null  int64  \n",
      " 31  CARRERA_DERECHO                                            926102 non-null  int64  \n",
      " 32  CARRERA_OTRAS                                              926102 non-null  int64  \n",
      " 33  CARRERA_PSICOLOGIA                                         926102 non-null  int64  \n",
      " 34  periodoAñoInicio                                           926102 non-null  int64  \n",
      " 35  periodoAñoFin                                              926102 non-null  int64  \n",
      " 36  periodoAños                                                926102 non-null  int64  \n",
      " 37  servicioMedico                                             926102 non-null  int64  \n",
      "dtypes: float64(7), int64(31)\n",
      "memory usage: 275.6 MB\n"
     ]
    }
   ],
   "source": [
    "dataUnido.info()"
   ]
  }
 ],
 "metadata": {
  "kernelspec": {
   "display_name": "Python 3 (ipykernel)",
   "language": "python",
   "name": "python3"
  },
  "language_info": {
   "codemirror_mode": {
    "name": "ipython",
    "version": 3
   },
   "file_extension": ".py",
   "mimetype": "text/x-python",
   "name": "python",
   "nbconvert_exporter": "python",
   "pygments_lexer": "ipython3",
   "version": "3.12.7"
  }
 },
 "nbformat": 4,
 "nbformat_minor": 5
}
