{
 "cells": [
  {
   "cell_type": "code",
   "execution_count": 354,
   "id": "f83db4cc",
   "metadata": {},
   "outputs": [],
   "source": [
    "import pandas as pd\n",
    "import seaborn as sns\n",
    "import numpy as np\n",
    "import matplotlib.pyplot as plt\n",
    "from sklearn.preprocessing import StandardScaler\n",
    "from sklearn.manifold import TSNE\n",
    "from sklearn.decomposition import PCA\n",
    "from sklearn.preprocessing import LabelEncoder\n"
   ]
  },
  {
   "cell_type": "markdown",
   "id": "50429cc6-5dc1-41a1-9b58-fb811a5fd221",
   "metadata": {},
   "source": [
    "# Preprocesamiento v2\n",
    "\n",
    "Antes de entrenar el modelo, vamos a preparar el datatset.\n",
    "### 1. **strip()** \n",
    "- Eliminar espacios en blanco en los nombres de las columnas\n",
    "\n",
    "  **1.1** Transformación de última beca nombre**\n",
    "\n",
    "  **1.2**Eliminar becas anteriores y mantener solo la última beca \n",
    "\n",
    "### 2. **Eliminar** \n",
    "         - Codigos silenciados innecesarias columnas para el analisis\n",
    "         -  Silenciar columna ULT_BECA_PERIODO\n",
    "### 3. **Preprocesamiento de Columnas**\n",
    " * **Nombre de centros**\n",
    "\n",
    "         - Mantener el valor de la columna con mayor valor y los demás valores corregirlos al valor siguiente que es Loja.\n",
    "\n",
    "#  5 **Conversión con LabelEncoder y OneHotEncoder** \n",
    "\n",
    "  * **Remplazar columnas con valores SI, NO a binarios**\n",
    "\n",
    "Columnas : \n",
    "   - EST_CARR_SEGUNDA_REPROBACION\n",
    "   - EST_CARR_TERCERA_REPROBACION\n",
    "   - CUMPLE_SEGUNDA_LENGUA\n",
    "  \n",
    "  * **Formato de columna Edad a entero**\n",
    "\n",
    "   - Convertir a valores Int\n",
    "   - Pasar valores a binario\n",
    "\n",
    "  * **Columna Rango Años de abandono de estudio**\n",
    "\n",
    "\n",
    "    - Pasar valores a categóricos a promedio entre la suma de ellos *'promedioAñosAbandono'*\n",
    "\n",
    "  * **Columna de Rango etario**\n",
    "\n",
    "    - Pasar valores a categóricos a promedio entre la suma de ellos *'promedioRangoEtario'*\n",
    "\n",
    "  * **Columna de nivel de carrera**\n",
    "\n",
    "    - Pasar valores a categóricos a binarios 0 y 1\n",
    "\n",
    "  * **Columna Modalidad**\n",
    "\n",
    "    - Pasar valores a categóricos a bianrios 0, 1 y 2\n",
    "\n",
    "  * **Columna nombre del centro**\n",
    "\n",
    "    - Pasar valores a categóricos a binarios 0 y 1\n",
    "    - \n",
    "  * **Columna nombre del Estado de la beca**\n",
    "\n",
    "    - Pasar valores a categóricos a binarios 0 y 1\n",
    "### - 4 **Revisión de valores nulos**\n",
    "\n",
    "     "
   ]
  },
  {
   "cell_type": "code",
   "execution_count": 355,
   "id": "729fdad6-9c97-47ac-a6a6-0f0cfeddd2b8",
   "metadata": {},
   "outputs": [
    {
     "data": {
      "text/html": [
       "<div>\n",
       "<style scoped>\n",
       "    .dataframe tbody tr th:only-of-type {\n",
       "        vertical-align: middle;\n",
       "    }\n",
       "\n",
       "    .dataframe tbody tr th {\n",
       "        vertical-align: top;\n",
       "    }\n",
       "\n",
       "    .dataframe thead th {\n",
       "        text-align: right;\n",
       "    }\n",
       "</style>\n",
       "<table border=\"1\" class=\"dataframe\">\n",
       "  <thead>\n",
       "    <tr style=\"text-align: right;\">\n",
       "      <th></th>\n",
       "      <th>ID</th>\n",
       "      <th>ESTUDIANTE_FECHA_FALLECIMIENTO</th>\n",
       "      <th>ESTUDIANTE_CARRERA_NIVEL_COD</th>\n",
       "      <th>ESTUDIANTE_CARRERA_NIVEL</th>\n",
       "      <th>ESTUDIANTE_CARRERA_MODALID_COD</th>\n",
       "      <th>ESTUDIANTE_CARRERA_MODALIDAD</th>\n",
       "      <th>ESTUDIANTE_CARRERA_CODIGO</th>\n",
       "      <th>ESTUDIANTE_CARRERA_NOMBRE</th>\n",
       "      <th>ESTUDIANTE_CARRERA_MALLA_COD</th>\n",
       "      <th>ESTUDIANTE_CARRERA_PLAN_ESTUD</th>\n",
       "      <th>...</th>\n",
       "      <th>TOTAL_TAREAS_PLANIFICADAS</th>\n",
       "      <th>TOTAL_TAREAS_REALIZADAS</th>\n",
       "      <th>TOTAL_TAREAS_NO_REALIZADAS</th>\n",
       "      <th>TOTAL_TAREAS_CALIFICADAS</th>\n",
       "      <th>PROMEDIO_NOTA_TAREAS</th>\n",
       "      <th>TOTAL_REUNIONES</th>\n",
       "      <th>DIA_RECURRENTE_REUNIONES</th>\n",
       "      <th>TOTAL_REUNIONES_MINUTOS</th>\n",
       "      <th>TOTAL_PARTICIPACIONES</th>\n",
       "      <th>TOTAL_PARTICIPACIONES_MINUTOS</th>\n",
       "    </tr>\n",
       "  </thead>\n",
       "  <tbody>\n",
       "    <tr>\n",
       "      <th>0</th>\n",
       "      <td>230</td>\n",
       "      <td>NaN</td>\n",
       "      <td>GR</td>\n",
       "      <td>GRADO</td>\n",
       "      <td>D</td>\n",
       "      <td>DISTANCIA</td>\n",
       "      <td>DERE_D1</td>\n",
       "      <td>DERECHO</td>\n",
       "      <td>DED3</td>\n",
       "      <td>1</td>\n",
       "      <td>...</td>\n",
       "      <td>NaN</td>\n",
       "      <td>NaN</td>\n",
       "      <td>NaN</td>\n",
       "      <td>NaN</td>\n",
       "      <td>NaN</td>\n",
       "      <td>NaN</td>\n",
       "      <td>NaN</td>\n",
       "      <td>NaN</td>\n",
       "      <td>NaN</td>\n",
       "      <td>NaN</td>\n",
       "    </tr>\n",
       "    <tr>\n",
       "      <th>1</th>\n",
       "      <td>231</td>\n",
       "      <td>NaN</td>\n",
       "      <td>GR</td>\n",
       "      <td>GRADO</td>\n",
       "      <td>D</td>\n",
       "      <td>DISTANCIA</td>\n",
       "      <td>CONT_D1</td>\n",
       "      <td>CONTABILIDAD Y AUDITORIA</td>\n",
       "      <td>CAD1</td>\n",
       "      <td>1</td>\n",
       "      <td>...</td>\n",
       "      <td>NaN</td>\n",
       "      <td>NaN</td>\n",
       "      <td>NaN</td>\n",
       "      <td>NaN</td>\n",
       "      <td>NaN</td>\n",
       "      <td>NaN</td>\n",
       "      <td>NaN</td>\n",
       "      <td>NaN</td>\n",
       "      <td>NaN</td>\n",
       "      <td>NaN</td>\n",
       "    </tr>\n",
       "  </tbody>\n",
       "</table>\n",
       "<p>2 rows × 166 columns</p>\n",
       "</div>"
      ],
      "text/plain": [
       "    ID ESTUDIANTE_FECHA_FALLECIMIENTO ESTUDIANTE_CARRERA_NIVEL_COD  \\\n",
       "0  230                            NaN                           GR   \n",
       "1  231                            NaN                           GR   \n",
       "\n",
       "  ESTUDIANTE_CARRERA_NIVEL ESTUDIANTE_CARRERA_MODALID_COD  \\\n",
       "0                    GRADO                              D   \n",
       "1                    GRADO                              D   \n",
       "\n",
       "  ESTUDIANTE_CARRERA_MODALIDAD ESTUDIANTE_CARRERA_CODIGO  \\\n",
       "0                    DISTANCIA                   DERE_D1   \n",
       "1                    DISTANCIA                   CONT_D1   \n",
       "\n",
       "  ESTUDIANTE_CARRERA_NOMBRE ESTUDIANTE_CARRERA_MALLA_COD  \\\n",
       "0                   DERECHO                         DED3   \n",
       "1  CONTABILIDAD Y AUDITORIA                         CAD1   \n",
       "\n",
       "   ESTUDIANTE_CARRERA_PLAN_ESTUD  ... TOTAL_TAREAS_PLANIFICADAS  \\\n",
       "0                              1  ...                       NaN   \n",
       "1                              1  ...                       NaN   \n",
       "\n",
       "  TOTAL_TAREAS_REALIZADAS TOTAL_TAREAS_NO_REALIZADAS TOTAL_TAREAS_CALIFICADAS  \\\n",
       "0                     NaN                        NaN                      NaN   \n",
       "1                     NaN                        NaN                      NaN   \n",
       "\n",
       "  PROMEDIO_NOTA_TAREAS TOTAL_REUNIONES DIA_RECURRENTE_REUNIONES  \\\n",
       "0                  NaN             NaN                      NaN   \n",
       "1                  NaN             NaN                      NaN   \n",
       "\n",
       "  TOTAL_REUNIONES_MINUTOS TOTAL_PARTICIPACIONES TOTAL_PARTICIPACIONES_MINUTOS  \n",
       "0                     NaN                   NaN                           NaN  \n",
       "1                     NaN                   NaN                           NaN  \n",
       "\n",
       "[2 rows x 166 columns]"
      ]
     },
     "execution_count": 355,
     "metadata": {},
     "output_type": "execute_result"
    }
   ],
   "source": [
    "### primeras filas \n",
    "data = pd.read_csv(\"TAI_AN_ESTUDIANTE_12072024_v2.csv\", low_memory=False)\n",
    "# Mostrar las primeras filas del DataFrame\n",
    "data.head(2)"
   ]
  },
  {
   "cell_type": "code",
   "execution_count": 356,
   "id": "8639e4b6-839a-4f3d-9ca3-368aea28af6a",
   "metadata": {},
   "outputs": [
    {
     "name": "stdout",
     "output_type": "stream",
     "text": [
      "Porcentaje total de valores nulos en dfv4: 55.09%\n"
     ]
    }
   ],
   "source": [
    "# Calcula el porcentaje total de valores nulos en el DataFrame dfv4\n",
    "porcentaje_nulos_total = (data.isnull().sum().sum() / data.size) * 100\n",
    "\n",
    "print(f\"Porcentaje total de valores nulos en dfv4: {porcentaje_nulos_total:.2f}%\")\n"
   ]
  },
  {
   "cell_type": "code",
   "execution_count": 357,
   "id": "a63d9ee5-6b21-4229-9ef2-1e6f5c706726",
   "metadata": {},
   "outputs": [
    {
     "data": {
      "text/plain": [
       "(114519, 166)"
      ]
     },
     "execution_count": 357,
     "metadata": {},
     "output_type": "execute_result"
    }
   ],
   "source": [
    "data.shape"
   ]
  },
  {
   "cell_type": "markdown",
   "id": "3c04b5ed-068c-4dbf-8e61-8d28723ab019",
   "metadata": {},
   "source": [
    "# Valores nulos por columnas"
   ]
  },
  {
   "cell_type": "code",
   "execution_count": 358,
   "id": "9365a752-c786-4cde-a90c-2a56a5a2b302",
   "metadata": {},
   "outputs": [],
   "source": [
    "# # Calcular el porcentaje de valores nulos por columna\n",
    "# porcentajeNulosDataNum = data.isnull().sum()\n",
    "\n",
    "# # Mostrar todo el resultado\n",
    "# # print(porcentajeNulosDataNum.to_string())\n",
    "# print(porcentajeNulosDataNum)\n"
   ]
  },
  {
   "cell_type": "markdown",
   "id": "270bf161-d289-42c6-b0f8-55d481b57e9a",
   "metadata": {},
   "source": [
    "# 1 strip()\n",
    "\n",
    " \n",
    " \n",
    "## 1.1 Eliminar espacios en blanco en los nombres de las columnas\n",
    "\n",
    "Eliminar espacios en blanco al principio y al final de los nombres de las columnas"
   ]
  },
  {
   "cell_type": "code",
   "execution_count": 359,
   "id": "749b7361-63f6-4eb4-8722-8a3ce07c089a",
   "metadata": {},
   "outputs": [],
   "source": [
    "# Eliminar espacios en blanco al inicio y final de los nombres de las columnas\n",
    "data.columns = data.columns.str.strip()\n",
    "\n",
    "# Eliminar espacios en blanco al inicio y final de los valores en cada columna de tipo string\n",
    "for column in data.select_dtypes(include='object').columns:\n",
    "    data[column] = data[column].str.strip()\n"
   ]
  },
  {
   "cell_type": "code",
   "execution_count": 360,
   "id": "65e462e3-c27b-41d1-9861-ff4cf3b4a542",
   "metadata": {},
   "outputs": [],
   "source": [
    "# data['ULT_BECA_NOMBRE'].unique()"
   ]
  },
  {
   "cell_type": "markdown",
   "id": "5ed73d50-155b-43ac-b1c6-3f7942249b7d",
   "metadata": {},
   "source": [
    "### 1.2  Preparacio2n y limpieza de variable predictora ESTADO_BECA"
   ]
  },
  {
   "cell_type": "markdown",
   "id": "4a080f2b-e01b-4e79-a31d-c9ff7c738c3b",
   "metadata": {},
   "source": [
    "### Limpieza de la variable predictora"
   ]
  },
  {
   "cell_type": "code",
   "execution_count": 361,
   "id": "6cec6a5e-82fb-4c22-aef8-f7793e5e1999",
   "metadata": {},
   "outputs": [],
   "source": [
    "# Reemplazar comillas simples internas por comillas dobles\n",
    "data['ULT_BECA_NOMBRE'] = data['ULT_BECA_NOMBRE'].str.replace(\"'\", '')\n",
    "\n",
    "# Asegurar que el contenido de 'ACCESO A LAS TIC's' sea modificado correctamente\n",
    "data['ULT_BECA_NOMBRE'] = data['ULT_BECA_NOMBRE'].str.replace(r\"(?<=\\S)'(?=\\S)\", '\"', regex=True)\n",
    "# data['ULT_BECA_NOMBRE'].unique()"
   ]
  },
  {
   "cell_type": "code",
   "execution_count": 362,
   "id": "c7810bed-1a3d-46da-bc3e-e96d9a3ebf02",
   "metadata": {},
   "outputs": [
    {
     "name": "stderr",
     "output_type": "stream",
     "text": [
      "/var/folders/3n/wr348_g54y3dnpq24d5zdn9w0000gn/T/ipykernel_1952/1057161593.py:10: PerformanceWarning: DataFrame is highly fragmented.  This is usually the result of calling `frame.insert` many times, which has poor performance.  Consider joining all columns at once using pd.concat(axis=1) instead. To get a de-fragmented frame, use `newframe = frame.copy()`\n",
      "  data['ESTADO_BECA'] = data['ULT_BECA_NOMBRE'].apply(extract_beca_name)\n"
     ]
    }
   ],
   "source": [
    "# Función para extraer el nombre de la beca\n",
    "def extract_beca_name(text):\n",
    "    if isinstance(text, str) and 'BECA' in text:\n",
    "        # Divide el texto por punto y coma y extrae las partes que contienen 'BECA'\n",
    "        parts = [part.strip() for part in text.split(';') if 'BECA' in part]\n",
    "        return '; '.join(parts)\n",
    "    return \n",
    "\n",
    "# Aplicar la función a la columna 'column_name' para crear la nueva columna 'BECA_NOMBRE'\n",
    "data['ESTADO_BECA'] = data['ULT_BECA_NOMBRE'].apply(extract_beca_name)\n",
    "\n",
    "# Función para eliminar duplicados en cada fila\n",
    "def eliminar_duplicados(be):\n",
    "    if pd.isna(be):\n",
    "        return be  # Devolver el valor tal cual si es NaN\n",
    "    # Dividir la cadena en una lista\n",
    "    be_list = be.split('; ')\n",
    "    # Eliminar duplicados manteniendo el orden\n",
    "    be_list_unicos = list(dict.fromkeys(be_list))\n",
    "    # Volver a unir la lista en una cadena\n",
    "    return '; '.join(be_list_unicos)\n",
    "data['ESTADO_BECA'] = data['ESTADO_BECA'].fillna('Ninguno')\n",
    "\n",
    "# Aplicar la función a la columna 'NOMBRE_BECA'\n",
    "data['ESTADO_BECA'] = data['ESTADO_BECA'].apply(eliminar_duplicados)\n",
    "# Eliminar la columna 'B'\n",
    "data = data.drop(columns=['ULT_BECA_NOMBRE'],axis=1)\n",
    "\n",
    "# print(data['ESTADO_BECA'].unique())\n"
   ]
  },
  {
   "cell_type": "code",
   "execution_count": 363,
   "id": "f71df4f4-ec8d-4ab1-a860-75cf3b4dcecf",
   "metadata": {},
   "outputs": [
    {
     "name": "stdout",
     "output_type": "stream",
     "text": [
      "['Ninguno' 'BECA RENDIMIENTO ACADEMICO' 'BECA UTPL'\n",
      " 'BECA EXCELENCIA ACADEMICA' 'BECA FIDELIZACION' 'BECA NIVEL DE INGRESOS'\n",
      " 'BECA GENERAL ECONOMICA' 'BECA DISCAPACIDAD' 'BECA CLUB UNIVERSITARIO'\n",
      " 'BECA PUEBLOS NACIONALIDADES' 'BECA POLITICA DE CUOTAS'\n",
      " 'BECA FAMILIAR PS' 'BECA CENTROS REHABILITACION' 'BECA DESEMPLEO'\n",
      " 'BECA FAMILIAR HIJO DOCENTE' 'BECA RESPONS UNIVERSITARIA'\n",
      " 'BECA FAMILIAR ESTUDIANTES' 'BECA NIVEL DE INGRESOS PS'\n",
      " 'BECA MOVILIDAD ESTUDIANTIL' 'BECA FAMIL.HIJO ADMINISTRATIVO'\n",
      " 'BECA ABANDERADOS'\n",
      " 'BECA FAMILIAR ESTUDIANTES; BECA RENDIMIENTO ACADEMICO'\n",
      " 'BECA DEPORTISTAS DESTACADOS' 'BECA CULTURAL' 'BECA DIOCESIS RELIGION'\n",
      " 'BECA FUNCIONARIOS PS' 'BECA DESEMPLEO PT PS' 'BECA DIOCESIS DEL PAIS'\n",
      " 'BECA NIVEL DE INGRESOS PT PS' 'BECA DESEMPLEO PS' 'BECA FAMILIAR PT PS'\n",
      " 'BECA APOYO ECONOMICO GENERAL AREA' 'BECA REPRESENT ESTUDIANTIL'\n",
      " 'BECA BACHILLERES DESTACADOS'\n",
      " 'BECA FAMILIAR HIJO DOCENTE; BECA RENDIMIENTO ACADEMICO'\n",
      " 'BECA TOMAS MORO' 'BECA DISCAPACIDAD PS'\n",
      " 'BECA APOYO ECONOMICO GENERAL AREA; BECA APOYO ECONOMICO GENERAL TITULACION'\n",
      " 'BECA CLUB UNIVERSITARIO; BECA RENDIMIENTO ACADEMICO'\n",
      " 'BECA DIOCESIS DE LOJA' 'BECA FUNCIONARIOS' 'OTRAS BECAS'\n",
      " 'BECA PUEBLOS NACIONALIDADES PS']\n"
     ]
    }
   ],
   "source": [
    "# Ver los valores únicos de la columna resultante\n",
    "print(data['ESTADO_BECA'].unique())\n"
   ]
  },
  {
   "cell_type": "code",
   "execution_count": 364,
   "id": "f507506d-63d4-45d2-9a27-ea156804e0c5",
   "metadata": {},
   "outputs": [
    {
     "name": "stdout",
     "output_type": "stream",
     "text": [
      "['Si' 'No']\n"
     ]
    }
   ],
   "source": [
    "import pandas as pd\n",
    "\n",
    "# Asegurarnos de que 'Ninguno' sea 'No' y el resto sea 'Sí'\n",
    "data['ESTADO_BECA'] = data['ESTADO_BECA'].apply(lambda x: 'Si' if x == 'Ninguno' else 'No')\n",
    "\n",
    "# Verifica los valores únicos de la columna\n",
    "print(data['ESTADO_BECA'].unique())\n"
   ]
  },
  {
   "cell_type": "markdown",
   "id": "78ddd952-9702-4119-bb01-8eb71b8ef3ea",
   "metadata": {},
   "source": [
    "## 2.  Silenciar columnas innecesarias  "
   ]
  },
  {
   "cell_type": "code",
   "execution_count": 365,
   "id": "96f1a07e-2930-4255-90f9-50d470e222b9",
   "metadata": {},
   "outputs": [
    {
     "name": "stdout",
     "output_type": "stream",
     "text": [
      "Columnas restantes en data1:\n",
      "FILAS Y COLUMNAS (114519, 45)\n"
     ]
    }
   ],
   "source": [
    "# Filtrar solo las columnas que contienen \"_COD\" en su nombre\n",
    "columns_with_cod = data.filter(like='_CODIGO').columns.tolist() + \\\n",
    "             data.filter(like='CODIGO_').columns.tolist() + \\\n",
    "             data.filter(like='_COD').columns.tolist() \n",
    "\n",
    "# Calcular el porcentaje de valores nulos por columna\n",
    "porcentajeNulosDataCat = (data.isnull().sum() / len(data)) * 100\n",
    "\n",
    "# Filtrar las columnas con más del 50% de valores nulos\n",
    "columnas_a_eliminar_nulos = porcentajeNulosDataCat[porcentajeNulosDataCat > 50].index.tolist()  # Asegúrate que sea una lista\n",
    "\n",
    "# Lista de otras columnas a agregar a dfSilence\n",
    "columnasNoConsideradas = ['EST_CARR_UNIDADES_REQUERIDAS','TOTAL_UNIDADES_ACUMULADAS',\n",
    "                          'TOTAL_UNIDADES_PENDIENTES','CICLO_AVANCE_UNIDADES','CICLO_AVANCE_UNIDADES',\n",
    "                         'TOTAL_ANIOS_EST_CAR','ULT_MAT_EST_CAR_PERIODO','ULT_MAT_EST_UTPL_PERIODO',\n",
    "                         'ULT_BECA_PERIODO','TOTAL_ANIOS_EST_UTPL','ESTUDIANTE_CENTRO_ZONA','ESTUDIANTE_CENTRO_REGION',\n",
    "                         'EST_CARR_MALLA_NOMBRE_CORTO','ESTUDIANTE_CARRERA_TIPO_MALLA','EST_CARR_PER_INGRESO','RANGO_SEMESTRE',\n",
    "                         'RANGO_PORC_AVANCE','EST_CARR_MALLA_NOMBRE_LARGO','EST_CARR_TIPO_INGRESO','EST_CARR_ESTADO_PLAN_ESTUDIOS']  # Asegúrate de que si es vacía, sea una lista vacía válida\n",
    "\n",
    "# Convertir la lista 'columnasNoConsideradas' en un DataFrame vacío para poder concatenarlo (opcional)\n",
    "df_columnas_no_consideradas = pd.DataFrame(columns=columnasNoConsideradas)\n",
    "\n",
    "# Crear un nuevo DataFrame dfSilence con las columnas seleccionadas\n",
    "dfSilence = pd.concat([data[columns_with_cod], data[columnasNoConsideradas], data[columnas_a_eliminar_nulos]], axis=1)\n",
    "\n",
    "# Eliminar las columnas del DataFrame original que han sido identificadas\n",
    "data = data.drop(columns=columns_with_cod + columnas_a_eliminar_nulos + columnasNoConsideradas, errors='ignore')\n",
    "\n",
    "# Crear un nuevo DataFrame data1 con las columnas restantes en data\n",
    "data1 = data\n",
    "\n",
    "# Verifica las columnas de data1 y de dfSilence\n",
    "print(\"Columnas restantes en data1:\")\n",
    "# print(data1.columns)\n",
    "print(\"FILAS Y COLUMNAS\", data1.shape)\n"
   ]
  },
  {
   "cell_type": "code",
   "execution_count": 366,
   "id": "e8971c43-0296-4fd2-a4ae-e41162677133",
   "metadata": {},
   "outputs": [
    {
     "data": {
      "text/plain": [
       "Index(['ID', 'ESTUDIANTE_CARRERA_NIVEL', 'ESTUDIANTE_CARRERA_MODALIDAD',\n",
       "       'ESTUDIANTE_CARRERA_NOMBRE', 'ESTUDIANTE_CARRERA_PLAN_ESTUD',\n",
       "       'ESTUDIANTE_CARRERA_RESPONSABLE', 'ESTUDIANTE_CENTRO_NOMBRE',\n",
       "       'EST_CARR_NUMERO_CICLOS', 'TOTAL_ASIGNATURAS_ACUMULADAS',\n",
       "       'PORCENTAJE_AVANCE', 'ULTIMA_MATRICULA_PERIODO', 'CTAXCOBRAR_VIGENTE',\n",
       "       'RETENCIONES_VIGENTES', 'EST_CARR_SEGUNDA_REPROBACION',\n",
       "       'EST_CARR_TERCERA_REPROBACION', 'ESTUDIANTE_SANCIONES_VIGENTES',\n",
       "       'CICLO_AVANCE_SEMESTRE', 'CICLO_ULTIMA_MATRICULA',\n",
       "       'EST_CARR_INTENTOS_APROBACION', 'EST_CARR_INTENTOS_REPROBACION',\n",
       "       'EST_CARR_ASIGNATURA_PENDIENTES', 'ULT_BECA_MONTO_REAL',\n",
       "       'CARR_ACTUAL_GRADUADO', 'EST_CARR_ANIOS_ABANDONO', 'ESTUDIANTE_SEXO',\n",
       "       'ESTUDIANTE_GAP', 'ESTUDIANTE_EDAD', 'CURSA_CARRERA_GRADO',\n",
       "       'CURSA_CARRERA_POSGR', 'CURSA_CARRERA_TEC', 'TOTAL_ULT_BECAS_ASIGN',\n",
       "       'TITULADO_CARRERA_GR', 'TITULADO_PROG_PS', 'EST_CARR_CANT_ASG_3ERA_REP',\n",
       "       'EST_CARR_CANT_ASG_2DA_REP', 'ESTUDIANTE_FALLECIDO',\n",
       "       'RANGO_ANIOS_ABANDONO', 'TOTAL_ANIOS', 'RANGO_ETARIO', 'IMPEDIMENTOS',\n",
       "       'DESCUENTO_REINGRESO', 'TIENE_AUTORIZACION_TM', 'CUMPLE_SEGUNDA_LENGUA',\n",
       "       'EST_CARR_OTRA_MALLA_SIN_MATRIC', 'ESTADO_BECA'],\n",
       "      dtype='object')"
      ]
     },
     "execution_count": 366,
     "metadata": {},
     "output_type": "execute_result"
    }
   ],
   "source": [
    "data1.columns"
   ]
  },
  {
   "cell_type": "markdown",
   "id": "47e379e2-0073-4c79-a92e-b47266c1995a",
   "metadata": {},
   "source": [
    "#  Data catego2ica limpieza"
   ]
  },
  {
   "cell_type": "code",
   "execution_count": 367,
   "id": "0ed18d81-da04-4cc2-bea0-a5c3025c870e",
   "metadata": {},
   "outputs": [
    {
     "data": {
      "text/html": [
       "<div>\n",
       "<style scoped>\n",
       "    .dataframe tbody tr th:only-of-type {\n",
       "        vertical-align: middle;\n",
       "    }\n",
       "\n",
       "    .dataframe tbody tr th {\n",
       "        vertical-align: top;\n",
       "    }\n",
       "\n",
       "    .dataframe thead th {\n",
       "        text-align: right;\n",
       "    }\n",
       "</style>\n",
       "<table border=\"1\" class=\"dataframe\">\n",
       "  <thead>\n",
       "    <tr style=\"text-align: right;\">\n",
       "      <th></th>\n",
       "      <th>ESTUDIANTE_CARRERA_NIVEL</th>\n",
       "      <th>ESTUDIANTE_CARRERA_MODALIDAD</th>\n",
       "      <th>ESTUDIANTE_CARRERA_NOMBRE</th>\n",
       "      <th>ESTUDIANTE_CARRERA_RESPONSABLE</th>\n",
       "      <th>ESTUDIANTE_CENTRO_NOMBRE</th>\n",
       "      <th>ULTIMA_MATRICULA_PERIODO</th>\n",
       "      <th>CTAXCOBRAR_VIGENTE</th>\n",
       "      <th>RETENCIONES_VIGENTES</th>\n",
       "      <th>EST_CARR_SEGUNDA_REPROBACION</th>\n",
       "      <th>EST_CARR_TERCERA_REPROBACION</th>\n",
       "      <th>...</th>\n",
       "      <th>TITULADO_PROG_PS</th>\n",
       "      <th>ESTUDIANTE_FALLECIDO</th>\n",
       "      <th>RANGO_ANIOS_ABANDONO</th>\n",
       "      <th>RANGO_ETARIO</th>\n",
       "      <th>IMPEDIMENTOS</th>\n",
       "      <th>DESCUENTO_REINGRESO</th>\n",
       "      <th>TIENE_AUTORIZACION_TM</th>\n",
       "      <th>CUMPLE_SEGUNDA_LENGUA</th>\n",
       "      <th>EST_CARR_OTRA_MALLA_SIN_MATRIC</th>\n",
       "      <th>ESTADO_BECA</th>\n",
       "    </tr>\n",
       "  </thead>\n",
       "  <tbody>\n",
       "    <tr>\n",
       "      <th>0</th>\n",
       "      <td>GRADO</td>\n",
       "      <td>DISTANCIA</td>\n",
       "      <td>DERECHO</td>\n",
       "      <td>FACULTAD DE CIENCIAS JURÍDICAS Y POLÍTICAS</td>\n",
       "      <td>COCA</td>\n",
       "      <td>OCT/2015 - FEB/2016</td>\n",
       "      <td>NO</td>\n",
       "      <td>NO</td>\n",
       "      <td>NO</td>\n",
       "      <td>NO</td>\n",
       "      <td>...</td>\n",
       "      <td>NO</td>\n",
       "      <td>NO</td>\n",
       "      <td>6 A 10</td>\n",
       "      <td>51 A 65</td>\n",
       "      <td>NO</td>\n",
       "      <td>NO</td>\n",
       "      <td>No</td>\n",
       "      <td>No</td>\n",
       "      <td>NO</td>\n",
       "      <td>Si</td>\n",
       "    </tr>\n",
       "    <tr>\n",
       "      <th>1</th>\n",
       "      <td>GRADO</td>\n",
       "      <td>DISTANCIA</td>\n",
       "      <td>CONTABILIDAD Y AUDITORIA</td>\n",
       "      <td>FACULTAD DE CIENCIAS ECONÓMICAS Y EMPRESARIALES</td>\n",
       "      <td>MACARA</td>\n",
       "      <td>ABR/2008 - AGO/2008</td>\n",
       "      <td>NO</td>\n",
       "      <td>NO</td>\n",
       "      <td>NO</td>\n",
       "      <td>NO</td>\n",
       "      <td>...</td>\n",
       "      <td>NO</td>\n",
       "      <td>NO</td>\n",
       "      <td>16 A 20</td>\n",
       "      <td>31 A 40</td>\n",
       "      <td>NO</td>\n",
       "      <td>NO</td>\n",
       "      <td>No</td>\n",
       "      <td>No</td>\n",
       "      <td>NO</td>\n",
       "      <td>Si</td>\n",
       "    </tr>\n",
       "    <tr>\n",
       "      <th>2</th>\n",
       "      <td>GRADO</td>\n",
       "      <td>DISTANCIA</td>\n",
       "      <td>DERECHO</td>\n",
       "      <td>FACULTAD DE CIENCIAS JURÍDICAS Y POLÍTICAS</td>\n",
       "      <td>QUITO-TUMBACO</td>\n",
       "      <td>ABR/2011 - AGO/2011</td>\n",
       "      <td>NO</td>\n",
       "      <td>NO</td>\n",
       "      <td>NO</td>\n",
       "      <td>NO</td>\n",
       "      <td>...</td>\n",
       "      <td>NO</td>\n",
       "      <td>NO</td>\n",
       "      <td>11 A 15</td>\n",
       "      <td>31 A 40</td>\n",
       "      <td>NO</td>\n",
       "      <td>NO</td>\n",
       "      <td>No</td>\n",
       "      <td>No</td>\n",
       "      <td>NO</td>\n",
       "      <td>Si</td>\n",
       "    </tr>\n",
       "    <tr>\n",
       "      <th>3</th>\n",
       "      <td>GRADO</td>\n",
       "      <td>DISTANCIA</td>\n",
       "      <td>COMUNICACION</td>\n",
       "      <td>FACULTAD DE CIENCIAS SOCIALES, EDUCACIÓN Y HUM...</td>\n",
       "      <td>PORTOVIEJO</td>\n",
       "      <td>OCT/2013 - FEB/2014</td>\n",
       "      <td>NO</td>\n",
       "      <td>NO</td>\n",
       "      <td>NO</td>\n",
       "      <td>NO</td>\n",
       "      <td>...</td>\n",
       "      <td>NO</td>\n",
       "      <td>NO</td>\n",
       "      <td>11 A 15</td>\n",
       "      <td>41 A 50</td>\n",
       "      <td>NO</td>\n",
       "      <td>NO</td>\n",
       "      <td>No</td>\n",
       "      <td>No</td>\n",
       "      <td>NO</td>\n",
       "      <td>Si</td>\n",
       "    </tr>\n",
       "    <tr>\n",
       "      <th>4</th>\n",
       "      <td>GRADO</td>\n",
       "      <td>DISTANCIA</td>\n",
       "      <td>CONTABILIDAD Y AUDITORIA</td>\n",
       "      <td>FACULTAD DE CIENCIAS ECONÓMICAS Y EMPRESARIALES</td>\n",
       "      <td>CUENCA</td>\n",
       "      <td>ABR/2014 - AGO/2014</td>\n",
       "      <td>NO</td>\n",
       "      <td>NO</td>\n",
       "      <td>NO</td>\n",
       "      <td>SI</td>\n",
       "      <td>...</td>\n",
       "      <td>NO</td>\n",
       "      <td>NO</td>\n",
       "      <td>6 A 10</td>\n",
       "      <td>51 A 65</td>\n",
       "      <td>SI</td>\n",
       "      <td>NO</td>\n",
       "      <td>No</td>\n",
       "      <td>No</td>\n",
       "      <td>NO</td>\n",
       "      <td>Si</td>\n",
       "    </tr>\n",
       "  </tbody>\n",
       "</table>\n",
       "<p>5 rows × 28 columns</p>\n",
       "</div>"
      ],
      "text/plain": [
       "  ESTUDIANTE_CARRERA_NIVEL ESTUDIANTE_CARRERA_MODALIDAD  \\\n",
       "0                    GRADO                    DISTANCIA   \n",
       "1                    GRADO                    DISTANCIA   \n",
       "2                    GRADO                    DISTANCIA   \n",
       "3                    GRADO                    DISTANCIA   \n",
       "4                    GRADO                    DISTANCIA   \n",
       "\n",
       "  ESTUDIANTE_CARRERA_NOMBRE  \\\n",
       "0                   DERECHO   \n",
       "1  CONTABILIDAD Y AUDITORIA   \n",
       "2                   DERECHO   \n",
       "3              COMUNICACION   \n",
       "4  CONTABILIDAD Y AUDITORIA   \n",
       "\n",
       "                      ESTUDIANTE_CARRERA_RESPONSABLE ESTUDIANTE_CENTRO_NOMBRE  \\\n",
       "0         FACULTAD DE CIENCIAS JURÍDICAS Y POLÍTICAS                     COCA   \n",
       "1    FACULTAD DE CIENCIAS ECONÓMICAS Y EMPRESARIALES                   MACARA   \n",
       "2         FACULTAD DE CIENCIAS JURÍDICAS Y POLÍTICAS            QUITO-TUMBACO   \n",
       "3  FACULTAD DE CIENCIAS SOCIALES, EDUCACIÓN Y HUM...               PORTOVIEJO   \n",
       "4    FACULTAD DE CIENCIAS ECONÓMICAS Y EMPRESARIALES                   CUENCA   \n",
       "\n",
       "  ULTIMA_MATRICULA_PERIODO CTAXCOBRAR_VIGENTE RETENCIONES_VIGENTES  \\\n",
       "0      OCT/2015 - FEB/2016                 NO                   NO   \n",
       "1      ABR/2008 - AGO/2008                 NO                   NO   \n",
       "2      ABR/2011 - AGO/2011                 NO                   NO   \n",
       "3      OCT/2013 - FEB/2014                 NO                   NO   \n",
       "4      ABR/2014 - AGO/2014                 NO                   NO   \n",
       "\n",
       "  EST_CARR_SEGUNDA_REPROBACION EST_CARR_TERCERA_REPROBACION  ...  \\\n",
       "0                           NO                           NO  ...   \n",
       "1                           NO                           NO  ...   \n",
       "2                           NO                           NO  ...   \n",
       "3                           NO                           NO  ...   \n",
       "4                           NO                           SI  ...   \n",
       "\n",
       "  TITULADO_PROG_PS ESTUDIANTE_FALLECIDO RANGO_ANIOS_ABANDONO RANGO_ETARIO  \\\n",
       "0               NO                   NO               6 A 10      51 A 65   \n",
       "1               NO                   NO              16 A 20      31 A 40   \n",
       "2               NO                   NO              11 A 15      31 A 40   \n",
       "3               NO                   NO              11 A 15      41 A 50   \n",
       "4               NO                   NO               6 A 10      51 A 65   \n",
       "\n",
       "  IMPEDIMENTOS DESCUENTO_REINGRESO TIENE_AUTORIZACION_TM  \\\n",
       "0           NO                  NO                    No   \n",
       "1           NO                  NO                    No   \n",
       "2           NO                  NO                    No   \n",
       "3           NO                  NO                    No   \n",
       "4           SI                  NO                    No   \n",
       "\n",
       "  CUMPLE_SEGUNDA_LENGUA EST_CARR_OTRA_MALLA_SIN_MATRIC ESTADO_BECA  \n",
       "0                    No                             NO          Si  \n",
       "1                    No                             NO          Si  \n",
       "2                    No                             NO          Si  \n",
       "3                    No                             NO          Si  \n",
       "4                    No                             NO          Si  \n",
       "\n",
       "[5 rows x 28 columns]"
      ]
     },
     "execution_count": 367,
     "metadata": {},
     "output_type": "execute_result"
    }
   ],
   "source": [
    "# Contar columnas categóricas (objetos y categorías)\n",
    "categorical_columns = data1.select_dtypes(include=['object']).columns\n",
    "dataCateg = data1[categorical_columns].copy() \n",
    "\n",
    "# Imprimir resultados\n",
    "dataCateg.head()\n"
   ]
  },
  {
   "cell_type": "markdown",
   "id": "d2f8495c-82f3-4e8f-b02b-09bbcf5b9fef",
   "metadata": {},
   "source": [
    "### 1. Transformación columna centros "
   ]
  },
  {
   "cell_type": "code",
   "execution_count": 368,
   "id": "49f938b6-e5cf-486b-893e-18f3037c1845",
   "metadata": {},
   "outputs": [],
   "source": [
    "# dataCateg['ESTUDIANTE_CENTRO_NOMBRE'].value_counts()"
   ]
  },
  {
   "cell_type": "code",
   "execution_count": 369,
   "id": "27fc2b7a-16ca-4424-86c7-2df731f3d569",
   "metadata": {},
   "outputs": [
    {
     "name": "stdout",
     "output_type": "stream",
     "text": [
      "ESTUDIANTE_CENTRO_NOMBRE\n",
      "LOJA     101893\n",
      "QUITO     12626\n",
      "Name: count, dtype: int64\n"
     ]
    }
   ],
   "source": [
    "# Cambiar valores a 'QUITO' y 'LOJA'\n",
    "dataCateg['ESTUDIANTE_CENTRO_NOMBRE'] = dataCateg['ESTUDIANTE_CENTRO_NOMBRE'].apply(lambda x: x if x == 'QUITO' else 'LOJA')\n",
    "\n",
    "# Verificar los resultados\n",
    "print(dataCateg['ESTUDIANTE_CENTRO_NOMBRE'].value_counts())\n"
   ]
  },
  {
   "cell_type": "markdown",
   "id": "9641109e-9c47-46cc-b4c4-f2c363706187",
   "metadata": {},
   "source": [
    "# DATA Numérica Limpieza"
   ]
  },
  {
   "cell_type": "code",
   "execution_count": 370,
   "id": "95e3b8fc-b060-4217-83fb-5fff378d9f06",
   "metadata": {},
   "outputs": [
    {
     "data": {
      "text/html": [
       "<div>\n",
       "<style scoped>\n",
       "    .dataframe tbody tr th:only-of-type {\n",
       "        vertical-align: middle;\n",
       "    }\n",
       "\n",
       "    .dataframe tbody tr th {\n",
       "        vertical-align: top;\n",
       "    }\n",
       "\n",
       "    .dataframe thead th {\n",
       "        text-align: right;\n",
       "    }\n",
       "</style>\n",
       "<table border=\"1\" class=\"dataframe\">\n",
       "  <thead>\n",
       "    <tr style=\"text-align: right;\">\n",
       "      <th></th>\n",
       "      <th>ID</th>\n",
       "      <th>ESTUDIANTE_CARRERA_PLAN_ESTUD</th>\n",
       "      <th>EST_CARR_NUMERO_CICLOS</th>\n",
       "      <th>TOTAL_ASIGNATURAS_ACUMULADAS</th>\n",
       "      <th>PORCENTAJE_AVANCE</th>\n",
       "      <th>CICLO_AVANCE_SEMESTRE</th>\n",
       "      <th>CICLO_ULTIMA_MATRICULA</th>\n",
       "      <th>EST_CARR_INTENTOS_APROBACION</th>\n",
       "      <th>EST_CARR_INTENTOS_REPROBACION</th>\n",
       "      <th>EST_CARR_ASIGNATURA_PENDIENTES</th>\n",
       "      <th>ULT_BECA_MONTO_REAL</th>\n",
       "      <th>EST_CARR_ANIOS_ABANDONO</th>\n",
       "      <th>ESTUDIANTE_EDAD</th>\n",
       "      <th>TOTAL_ULT_BECAS_ASIGN</th>\n",
       "      <th>EST_CARR_CANT_ASG_3ERA_REP</th>\n",
       "      <th>EST_CARR_CANT_ASG_2DA_REP</th>\n",
       "      <th>TOTAL_ANIOS</th>\n",
       "    </tr>\n",
       "  </thead>\n",
       "  <tbody>\n",
       "    <tr>\n",
       "      <th>0</th>\n",
       "      <td>230</td>\n",
       "      <td>1</td>\n",
       "      <td>10</td>\n",
       "      <td>1</td>\n",
       "      <td>0.0</td>\n",
       "      <td>0.0</td>\n",
       "      <td>1.0</td>\n",
       "      <td>1.0</td>\n",
       "      <td>5.0</td>\n",
       "      <td>54.0</td>\n",
       "      <td>80.0</td>\n",
       "      <td>8</td>\n",
       "      <td>54.0</td>\n",
       "      <td>1.0</td>\n",
       "      <td>0</td>\n",
       "      <td>0</td>\n",
       "      <td>9</td>\n",
       "    </tr>\n",
       "    <tr>\n",
       "      <th>1</th>\n",
       "      <td>231</td>\n",
       "      <td>1</td>\n",
       "      <td>10</td>\n",
       "      <td>0</td>\n",
       "      <td>0.0</td>\n",
       "      <td>0.0</td>\n",
       "      <td>1.0</td>\n",
       "      <td>NaN</td>\n",
       "      <td>5.0</td>\n",
       "      <td>57.0</td>\n",
       "      <td>NaN</td>\n",
       "      <td>15</td>\n",
       "      <td>35.0</td>\n",
       "      <td>NaN</td>\n",
       "      <td>0</td>\n",
       "      <td>0</td>\n",
       "      <td>16</td>\n",
       "    </tr>\n",
       "  </tbody>\n",
       "</table>\n",
       "</div>"
      ],
      "text/plain": [
       "    ID  ESTUDIANTE_CARRERA_PLAN_ESTUD  EST_CARR_NUMERO_CICLOS  \\\n",
       "0  230                              1                      10   \n",
       "1  231                              1                      10   \n",
       "\n",
       "   TOTAL_ASIGNATURAS_ACUMULADAS  PORCENTAJE_AVANCE  CICLO_AVANCE_SEMESTRE  \\\n",
       "0                             1                0.0                    0.0   \n",
       "1                             0                0.0                    0.0   \n",
       "\n",
       "   CICLO_ULTIMA_MATRICULA  EST_CARR_INTENTOS_APROBACION  \\\n",
       "0                     1.0                           1.0   \n",
       "1                     1.0                           NaN   \n",
       "\n",
       "   EST_CARR_INTENTOS_REPROBACION  EST_CARR_ASIGNATURA_PENDIENTES  \\\n",
       "0                            5.0                            54.0   \n",
       "1                            5.0                            57.0   \n",
       "\n",
       "   ULT_BECA_MONTO_REAL  EST_CARR_ANIOS_ABANDONO  ESTUDIANTE_EDAD  \\\n",
       "0                 80.0                        8             54.0   \n",
       "1                  NaN                       15             35.0   \n",
       "\n",
       "   TOTAL_ULT_BECAS_ASIGN  EST_CARR_CANT_ASG_3ERA_REP  \\\n",
       "0                    1.0                           0   \n",
       "1                    NaN                           0   \n",
       "\n",
       "   EST_CARR_CANT_ASG_2DA_REP  TOTAL_ANIOS  \n",
       "0                          0            9  \n",
       "1                          0           16  "
      ]
     },
     "execution_count": 370,
     "metadata": {},
     "output_type": "execute_result"
    }
   ],
   "source": [
    "# Contar columnas numéricas\n",
    "dataNumerica = data1.select_dtypes(include=['number']).columns\n",
    "dataNum = data1[dataNumerica].copy()\n",
    "\n",
    "# Imprimir resultados\n",
    "dataNum.head(2)\n"
   ]
  },
  {
   "cell_type": "markdown",
   "id": "f50fc17b-d77c-4a0d-ad46-c0519ec3ab3e",
   "metadata": {},
   "source": [
    "## 3.5 Formato de columna Edad a entero"
   ]
  },
  {
   "cell_type": "code",
   "execution_count": 371,
   "id": "365cd43e-f510-410a-b1a8-87c505efe39a",
   "metadata": {},
   "outputs": [],
   "source": [
    "dataEdad = dataNum[dataNum['ESTUDIANTE_EDAD'].isnull()]\n",
    "# dataEdad\n",
    "media_edad = dataNum['ESTUDIANTE_EDAD'].mean()\n",
    "\n",
    "# Rellena los NaN con la media y convertir a enteros\n",
    "dataNum['ESTUDIANTE_EDAD'] = dataNum['ESTUDIANTE_EDAD'].fillna(media_edad).astype(int)\n",
    "\n"
   ]
  },
  {
   "cell_type": "markdown",
   "id": "c7037f38-e0cf-4804-b374-46257d6631b4",
   "metadata": {},
   "source": [
    "# 4. REVISAR VALORES NULOS"
   ]
  },
  {
   "cell_type": "markdown",
   "id": "26a9f4e8-e946-4511-9272-1b17fc1a005a",
   "metadata": {},
   "source": [
    "## Data categórica nulos"
   ]
  },
  {
   "cell_type": "code",
   "execution_count": 372,
   "id": "f198c239-d303-4092-9691-db7b3ce97aee",
   "metadata": {},
   "outputs": [
    {
     "name": "stdout",
     "output_type": "stream",
     "text": [
      "Todas las columnas y su cantidad de valores nulos:\n",
      "ESTUDIANTE_CARRERA_NIVEL             0\n",
      "ESTUDIANTE_CARRERA_MODALIDAD         0\n",
      "ESTUDIANTE_CARRERA_NOMBRE            0\n",
      "ESTUDIANTE_CARRERA_RESPONSABLE       0\n",
      "ESTUDIANTE_CENTRO_NOMBRE             0\n",
      "ULTIMA_MATRICULA_PERIODO          8136\n",
      "CTAXCOBRAR_VIGENTE                   0\n",
      "RETENCIONES_VIGENTES                 0\n",
      "EST_CARR_SEGUNDA_REPROBACION         0\n",
      "EST_CARR_TERCERA_REPROBACION         0\n",
      "ESTUDIANTE_SANCIONES_VIGENTES        0\n",
      "CARR_ACTUAL_GRADUADO                 0\n",
      "ESTUDIANTE_SEXO                      0\n",
      "ESTUDIANTE_GAP                       0\n",
      "CURSA_CARRERA_GRADO                  0\n",
      "CURSA_CARRERA_POSGR                  0\n",
      "CURSA_CARRERA_TEC                    0\n",
      "TITULADO_CARRERA_GR                  0\n",
      "TITULADO_PROG_PS                     0\n",
      "ESTUDIANTE_FALLECIDO                 0\n",
      "RANGO_ANIOS_ABANDONO                 0\n",
      "RANGO_ETARIO                         0\n",
      "IMPEDIMENTOS                         0\n",
      "DESCUENTO_REINGRESO                  0\n",
      "TIENE_AUTORIZACION_TM                0\n",
      "CUMPLE_SEGUNDA_LENGUA                0\n",
      "EST_CARR_OTRA_MALLA_SIN_MATRIC       0\n",
      "ESTADO_BECA                          0\n",
      "dtype: int64\n"
     ]
    }
   ],
   "source": [
    "pd.set_option('display.max_rows', None)\n",
    "\n",
    "valores_nulos_por_columna = dataCateg.isnull().sum()\n",
    "# Imprimir todas las columnas con su respectiva cantidad de valores nulos\n",
    "print(\"Todas las columnas y su cantidad de valores nulos:\")\n",
    "print(valores_nulos_por_columna)\n"
   ]
  },
  {
   "cell_type": "markdown",
   "id": "55750a4f-f9d6-4d1b-b928-42851b8a5f50",
   "metadata": {},
   "source": [
    "### DATA numéria nulos "
   ]
  },
  {
   "cell_type": "code",
   "execution_count": 373,
   "id": "760d7b7a-8408-42a6-9a99-5002bfb35ac0",
   "metadata": {},
   "outputs": [
    {
     "name": "stdout",
     "output_type": "stream",
     "text": [
      "Todas las columnas y su cantidad de valores nulos:\n",
      "ID                                    0\n",
      "ESTUDIANTE_CARRERA_PLAN_ESTUD         0\n",
      "EST_CARR_NUMERO_CICLOS                0\n",
      "TOTAL_ASIGNATURAS_ACUMULADAS          0\n",
      "PORCENTAJE_AVANCE                     1\n",
      "CICLO_AVANCE_SEMESTRE               152\n",
      "CICLO_ULTIMA_MATRICULA             1748\n",
      "EST_CARR_INTENTOS_APROBACION      47869\n",
      "EST_CARR_INTENTOS_REPROBACION     28572\n",
      "EST_CARR_ASIGNATURA_PENDIENTES      514\n",
      "ULT_BECA_MONTO_REAL               49291\n",
      "EST_CARR_ANIOS_ABANDONO               0\n",
      "ESTUDIANTE_EDAD                       0\n",
      "TOTAL_ULT_BECAS_ASIGN             49291\n",
      "EST_CARR_CANT_ASG_3ERA_REP            0\n",
      "EST_CARR_CANT_ASG_2DA_REP             0\n",
      "TOTAL_ANIOS                           0\n",
      "dtype: int64\n"
     ]
    }
   ],
   "source": [
    "# pd.set_option('display.max_rows',  None)\n",
    "\n",
    "valores_nulos_por_columna = dataNum.isnull().sum()\n",
    "# Imprimir todas las columnas con su respectiva cantidad de valores nulos\n",
    "print(\"Todas las columnas y su cantidad de valores nulos:\")\n",
    "print(valores_nulos_por_columna)\n"
   ]
  },
  {
   "cell_type": "code",
   "execution_count": 374,
   "id": "59541601-bfef-4ffb-a788-29678ce1291a",
   "metadata": {},
   "outputs": [
    {
     "name": "stdout",
     "output_type": "stream",
     "text": [
      "(114519, 17)\n",
      "(114519, 28)\n"
     ]
    }
   ],
   "source": [
    "print(dataNum.shape)\n",
    "print(dataCateg.shape)"
   ]
  },
  {
   "cell_type": "markdown",
   "id": "5fcab393-d788-4c5e-8602-7d61187f4210",
   "metadata": {},
   "source": [
    "# Limpieza de columnas"
   ]
  },
  {
   "cell_type": "markdown",
   "id": "4918e23e-93bd-4317-8f8e-0f5038f8cffe",
   "metadata": {},
   "source": [
    "### Relleno de de valores de columnas con nulos"
   ]
  },
  {
   "cell_type": "code",
   "execution_count": 375,
   "id": "48422b70-4dd0-4600-ba1d-e40f540927fd",
   "metadata": {},
   "outputs": [],
   "source": [
    "\n",
    "dataNum['CICLO_AVANCE_SEMESTRE'] = dataNum['CICLO_AVANCE_SEMESTRE'].fillna(0)\n",
    "\n",
    "dataNum['ULT_BECA_MONTO_REAL'] = dataNum['ULT_BECA_MONTO_REAL'].fillna(0)\n",
    "\n",
    "dataNum['PORCENTAJE_AVANCE'] = dataNum['PORCENTAJE_AVANCE'].fillna(0)\n",
    "\n",
    "dataNum['CICLO_ULTIMA_MATRICULA'] = dataNum['CICLO_ULTIMA_MATRICULA'].fillna(0)\n",
    "\n",
    "dataNum['TOTAL_ULT_BECAS_ASIGN'] = dataNum['TOTAL_ULT_BECAS_ASIGN'].fillna(0)\n",
    "\n",
    "dataNum['EST_CARR_ASIGNATURA_PENDIENTES'] = dataNum['EST_CARR_ASIGNATURA_PENDIENTES'].fillna(0)\n",
    "\n",
    "dataNum['EST_CARR_INTENTOS_APROBACION'] = dataNum['EST_CARR_INTENTOS_APROBACION'].fillna(0)\n",
    "\n",
    "dataNum['EST_CARR_INTENTOS_REPROBACION'] = dataNum['EST_CARR_INTENTOS_REPROBACION'].fillna(0)\n"
   ]
  },
  {
   "cell_type": "code",
   "execution_count": 376,
   "id": "c2cbccfb-bb1b-4496-9a8b-4067aa4cd35f",
   "metadata": {},
   "outputs": [
    {
     "data": {
      "text/html": [
       "<div>\n",
       "<style scoped>\n",
       "    .dataframe tbody tr th:only-of-type {\n",
       "        vertical-align: middle;\n",
       "    }\n",
       "\n",
       "    .dataframe tbody tr th {\n",
       "        vertical-align: top;\n",
       "    }\n",
       "\n",
       "    .dataframe thead th {\n",
       "        text-align: right;\n",
       "    }\n",
       "</style>\n",
       "<table border=\"1\" class=\"dataframe\">\n",
       "  <thead>\n",
       "    <tr style=\"text-align: right;\">\n",
       "      <th></th>\n",
       "      <th>ESTUDIANTE_CARRERA_NIVEL</th>\n",
       "      <th>ESTUDIANTE_CARRERA_MODALIDAD</th>\n",
       "      <th>ESTUDIANTE_CARRERA_NOMBRE</th>\n",
       "      <th>ESTUDIANTE_CARRERA_RESPONSABLE</th>\n",
       "      <th>ESTUDIANTE_CENTRO_NOMBRE</th>\n",
       "      <th>ULTIMA_MATRICULA_PERIODO</th>\n",
       "      <th>CTAXCOBRAR_VIGENTE</th>\n",
       "      <th>RETENCIONES_VIGENTES</th>\n",
       "      <th>EST_CARR_SEGUNDA_REPROBACION</th>\n",
       "      <th>EST_CARR_TERCERA_REPROBACION</th>\n",
       "      <th>...</th>\n",
       "      <th>TITULADO_PROG_PS</th>\n",
       "      <th>ESTUDIANTE_FALLECIDO</th>\n",
       "      <th>RANGO_ANIOS_ABANDONO</th>\n",
       "      <th>RANGO_ETARIO</th>\n",
       "      <th>IMPEDIMENTOS</th>\n",
       "      <th>DESCUENTO_REINGRESO</th>\n",
       "      <th>TIENE_AUTORIZACION_TM</th>\n",
       "      <th>CUMPLE_SEGUNDA_LENGUA</th>\n",
       "      <th>EST_CARR_OTRA_MALLA_SIN_MATRIC</th>\n",
       "      <th>ESTADO_BECA</th>\n",
       "    </tr>\n",
       "  </thead>\n",
       "  <tbody>\n",
       "    <tr>\n",
       "      <th>0</th>\n",
       "      <td>GRADO</td>\n",
       "      <td>DISTANCIA</td>\n",
       "      <td>DERECHO</td>\n",
       "      <td>FACULTAD DE CIENCIAS JURÍDICAS Y POLÍTICAS</td>\n",
       "      <td>LOJA</td>\n",
       "      <td>OCT/2015 - FEB/2016</td>\n",
       "      <td>NO</td>\n",
       "      <td>NO</td>\n",
       "      <td>NO</td>\n",
       "      <td>NO</td>\n",
       "      <td>...</td>\n",
       "      <td>NO</td>\n",
       "      <td>NO</td>\n",
       "      <td>6 A 10</td>\n",
       "      <td>51 A 65</td>\n",
       "      <td>NO</td>\n",
       "      <td>NO</td>\n",
       "      <td>No</td>\n",
       "      <td>No</td>\n",
       "      <td>NO</td>\n",
       "      <td>Si</td>\n",
       "    </tr>\n",
       "    <tr>\n",
       "      <th>1</th>\n",
       "      <td>GRADO</td>\n",
       "      <td>DISTANCIA</td>\n",
       "      <td>CONTABILIDAD Y AUDITORIA</td>\n",
       "      <td>FACULTAD DE CIENCIAS ECONÓMICAS Y EMPRESARIALES</td>\n",
       "      <td>LOJA</td>\n",
       "      <td>ABR/2008 - AGO/2008</td>\n",
       "      <td>NO</td>\n",
       "      <td>NO</td>\n",
       "      <td>NO</td>\n",
       "      <td>NO</td>\n",
       "      <td>...</td>\n",
       "      <td>NO</td>\n",
       "      <td>NO</td>\n",
       "      <td>16 A 20</td>\n",
       "      <td>31 A 40</td>\n",
       "      <td>NO</td>\n",
       "      <td>NO</td>\n",
       "      <td>No</td>\n",
       "      <td>No</td>\n",
       "      <td>NO</td>\n",
       "      <td>Si</td>\n",
       "    </tr>\n",
       "    <tr>\n",
       "      <th>2</th>\n",
       "      <td>GRADO</td>\n",
       "      <td>DISTANCIA</td>\n",
       "      <td>DERECHO</td>\n",
       "      <td>FACULTAD DE CIENCIAS JURÍDICAS Y POLÍTICAS</td>\n",
       "      <td>LOJA</td>\n",
       "      <td>ABR/2011 - AGO/2011</td>\n",
       "      <td>NO</td>\n",
       "      <td>NO</td>\n",
       "      <td>NO</td>\n",
       "      <td>NO</td>\n",
       "      <td>...</td>\n",
       "      <td>NO</td>\n",
       "      <td>NO</td>\n",
       "      <td>11 A 15</td>\n",
       "      <td>31 A 40</td>\n",
       "      <td>NO</td>\n",
       "      <td>NO</td>\n",
       "      <td>No</td>\n",
       "      <td>No</td>\n",
       "      <td>NO</td>\n",
       "      <td>Si</td>\n",
       "    </tr>\n",
       "    <tr>\n",
       "      <th>3</th>\n",
       "      <td>GRADO</td>\n",
       "      <td>DISTANCIA</td>\n",
       "      <td>COMUNICACION</td>\n",
       "      <td>FACULTAD DE CIENCIAS SOCIALES, EDUCACIÓN Y HUM...</td>\n",
       "      <td>LOJA</td>\n",
       "      <td>OCT/2013 - FEB/2014</td>\n",
       "      <td>NO</td>\n",
       "      <td>NO</td>\n",
       "      <td>NO</td>\n",
       "      <td>NO</td>\n",
       "      <td>...</td>\n",
       "      <td>NO</td>\n",
       "      <td>NO</td>\n",
       "      <td>11 A 15</td>\n",
       "      <td>41 A 50</td>\n",
       "      <td>NO</td>\n",
       "      <td>NO</td>\n",
       "      <td>No</td>\n",
       "      <td>No</td>\n",
       "      <td>NO</td>\n",
       "      <td>Si</td>\n",
       "    </tr>\n",
       "    <tr>\n",
       "      <th>4</th>\n",
       "      <td>GRADO</td>\n",
       "      <td>DISTANCIA</td>\n",
       "      <td>CONTABILIDAD Y AUDITORIA</td>\n",
       "      <td>FACULTAD DE CIENCIAS ECONÓMICAS Y EMPRESARIALES</td>\n",
       "      <td>LOJA</td>\n",
       "      <td>ABR/2014 - AGO/2014</td>\n",
       "      <td>NO</td>\n",
       "      <td>NO</td>\n",
       "      <td>NO</td>\n",
       "      <td>SI</td>\n",
       "      <td>...</td>\n",
       "      <td>NO</td>\n",
       "      <td>NO</td>\n",
       "      <td>6 A 10</td>\n",
       "      <td>51 A 65</td>\n",
       "      <td>SI</td>\n",
       "      <td>NO</td>\n",
       "      <td>No</td>\n",
       "      <td>No</td>\n",
       "      <td>NO</td>\n",
       "      <td>Si</td>\n",
       "    </tr>\n",
       "  </tbody>\n",
       "</table>\n",
       "<p>5 rows × 28 columns</p>\n",
       "</div>"
      ],
      "text/plain": [
       "  ESTUDIANTE_CARRERA_NIVEL ESTUDIANTE_CARRERA_MODALIDAD  \\\n",
       "0                    GRADO                    DISTANCIA   \n",
       "1                    GRADO                    DISTANCIA   \n",
       "2                    GRADO                    DISTANCIA   \n",
       "3                    GRADO                    DISTANCIA   \n",
       "4                    GRADO                    DISTANCIA   \n",
       "\n",
       "  ESTUDIANTE_CARRERA_NOMBRE  \\\n",
       "0                   DERECHO   \n",
       "1  CONTABILIDAD Y AUDITORIA   \n",
       "2                   DERECHO   \n",
       "3              COMUNICACION   \n",
       "4  CONTABILIDAD Y AUDITORIA   \n",
       "\n",
       "                      ESTUDIANTE_CARRERA_RESPONSABLE ESTUDIANTE_CENTRO_NOMBRE  \\\n",
       "0         FACULTAD DE CIENCIAS JURÍDICAS Y POLÍTICAS                     LOJA   \n",
       "1    FACULTAD DE CIENCIAS ECONÓMICAS Y EMPRESARIALES                     LOJA   \n",
       "2         FACULTAD DE CIENCIAS JURÍDICAS Y POLÍTICAS                     LOJA   \n",
       "3  FACULTAD DE CIENCIAS SOCIALES, EDUCACIÓN Y HUM...                     LOJA   \n",
       "4    FACULTAD DE CIENCIAS ECONÓMICAS Y EMPRESARIALES                     LOJA   \n",
       "\n",
       "  ULTIMA_MATRICULA_PERIODO CTAXCOBRAR_VIGENTE RETENCIONES_VIGENTES  \\\n",
       "0      OCT/2015 - FEB/2016                 NO                   NO   \n",
       "1      ABR/2008 - AGO/2008                 NO                   NO   \n",
       "2      ABR/2011 - AGO/2011                 NO                   NO   \n",
       "3      OCT/2013 - FEB/2014                 NO                   NO   \n",
       "4      ABR/2014 - AGO/2014                 NO                   NO   \n",
       "\n",
       "  EST_CARR_SEGUNDA_REPROBACION EST_CARR_TERCERA_REPROBACION  ...  \\\n",
       "0                           NO                           NO  ...   \n",
       "1                           NO                           NO  ...   \n",
       "2                           NO                           NO  ...   \n",
       "3                           NO                           NO  ...   \n",
       "4                           NO                           SI  ...   \n",
       "\n",
       "  TITULADO_PROG_PS ESTUDIANTE_FALLECIDO RANGO_ANIOS_ABANDONO RANGO_ETARIO  \\\n",
       "0               NO                   NO               6 A 10      51 A 65   \n",
       "1               NO                   NO              16 A 20      31 A 40   \n",
       "2               NO                   NO              11 A 15      31 A 40   \n",
       "3               NO                   NO              11 A 15      41 A 50   \n",
       "4               NO                   NO               6 A 10      51 A 65   \n",
       "\n",
       "  IMPEDIMENTOS DESCUENTO_REINGRESO TIENE_AUTORIZACION_TM  \\\n",
       "0           NO                  NO                    No   \n",
       "1           NO                  NO                    No   \n",
       "2           NO                  NO                    No   \n",
       "3           NO                  NO                    No   \n",
       "4           SI                  NO                    No   \n",
       "\n",
       "  CUMPLE_SEGUNDA_LENGUA EST_CARR_OTRA_MALLA_SIN_MATRIC ESTADO_BECA  \n",
       "0                    No                             NO          Si  \n",
       "1                    No                             NO          Si  \n",
       "2                    No                             NO          Si  \n",
       "3                    No                             NO          Si  \n",
       "4                    No                             NO          Si  \n",
       "\n",
       "[5 rows x 28 columns]"
      ]
     },
     "execution_count": 376,
     "metadata": {},
     "output_type": "execute_result"
    }
   ],
   "source": [
    "dataCateg.head()"
   ]
  },
  {
   "cell_type": "code",
   "execution_count": 377,
   "id": "3df79eea-748f-45ae-aa67-9e72e951c675",
   "metadata": {},
   "outputs": [],
   "source": [
    "dataCateg['ULTIMA_MATRICULA_PERIODO'] = dataCateg['ULTIMA_MATRICULA_PERIODO'].fillna('0000')\n"
   ]
  },
  {
   "cell_type": "code",
   "execution_count": 378,
   "id": "31284ad4-ba60-448d-8ebb-b7a3194c7aef",
   "metadata": {},
   "outputs": [],
   "source": [
    "\n",
    "# # Filtrar las filas donde la columna 'ULTIMA_MATRICULA_PERIODO' tiene valores nulos\n",
    "# filterNul = dataNum[dataNum['TOTAL_ANIOS_EST_CAR'].isna()]\n",
    "\n",
    "# # Contar el número de filas que contienen valores nulos en esa columna\n",
    "# # print(filterNul.shape[0])\n",
    "# filterNul.head()\n"
   ]
  },
  {
   "cell_type": "markdown",
   "id": "a7041e61-ad27-4639-b51d-3d0f1d7fbcc0",
   "metadata": {},
   "source": [
    "# GUARDAR Nuevo dataframe V2 limpio Con valores catego2ricos"
   ]
  },
  {
   "cell_type": "code",
   "execution_count": 379,
   "id": "74c71cbb-5171-426c-bc2b-39268e2e1167",
   "metadata": {},
   "outputs": [],
   "source": [
    "# Unir los DataFrames\n",
    "dataUnido = pd.concat([dataNum, dataCateg], axis=1)\n",
    "\n",
    "# Guardar el DataFrame resultante en un archivo CSV\n",
    "dataUnido.to_csv('dataCleanV2.csv', index=False)\n"
   ]
  },
  {
   "cell_type": "code",
   "execution_count": 380,
   "id": "659e60c0-6582-4533-92b9-ce4780fef59b",
   "metadata": {},
   "outputs": [],
   "source": [
    "# dataUnido.isna().sum()"
   ]
  },
  {
   "cell_type": "code",
   "execution_count": 381,
   "id": "3b483f43-8336-4b94-9753-d41c356d5690",
   "metadata": {},
   "outputs": [
    {
     "name": "stdout",
     "output_type": "stream",
     "text": [
      "<class 'pandas.core.frame.DataFrame'>\n",
      "RangeIndex: 114519 entries, 0 to 114518\n",
      "Data columns (total 45 columns):\n",
      " #   Column                          Non-Null Count   Dtype  \n",
      "---  ------                          --------------   -----  \n",
      " 0   ID                              114519 non-null  int64  \n",
      " 1   ESTUDIANTE_CARRERA_PLAN_ESTUD   114519 non-null  int64  \n",
      " 2   EST_CARR_NUMERO_CICLOS          114519 non-null  int64  \n",
      " 3   TOTAL_ASIGNATURAS_ACUMULADAS    114519 non-null  int64  \n",
      " 4   PORCENTAJE_AVANCE               114519 non-null  float64\n",
      " 5   CICLO_AVANCE_SEMESTRE           114519 non-null  float64\n",
      " 6   CICLO_ULTIMA_MATRICULA          114519 non-null  float64\n",
      " 7   EST_CARR_INTENTOS_APROBACION    114519 non-null  float64\n",
      " 8   EST_CARR_INTENTOS_REPROBACION   114519 non-null  float64\n",
      " 9   EST_CARR_ASIGNATURA_PENDIENTES  114519 non-null  float64\n",
      " 10  ULT_BECA_MONTO_REAL             114519 non-null  float64\n",
      " 11  EST_CARR_ANIOS_ABANDONO         114519 non-null  int64  \n",
      " 12  ESTUDIANTE_EDAD                 114519 non-null  int64  \n",
      " 13  TOTAL_ULT_BECAS_ASIGN           114519 non-null  float64\n",
      " 14  EST_CARR_CANT_ASG_3ERA_REP      114519 non-null  int64  \n",
      " 15  EST_CARR_CANT_ASG_2DA_REP       114519 non-null  int64  \n",
      " 16  TOTAL_ANIOS                     114519 non-null  int64  \n",
      " 17  ESTUDIANTE_CARRERA_NIVEL        114519 non-null  object \n",
      " 18  ESTUDIANTE_CARRERA_MODALIDAD    114519 non-null  object \n",
      " 19  ESTUDIANTE_CARRERA_NOMBRE       114519 non-null  object \n",
      " 20  ESTUDIANTE_CARRERA_RESPONSABLE  114519 non-null  object \n",
      " 21  ESTUDIANTE_CENTRO_NOMBRE        114519 non-null  object \n",
      " 22  ULTIMA_MATRICULA_PERIODO        114519 non-null  object \n",
      " 23  CTAXCOBRAR_VIGENTE              114519 non-null  object \n",
      " 24  RETENCIONES_VIGENTES            114519 non-null  object \n",
      " 25  EST_CARR_SEGUNDA_REPROBACION    114519 non-null  object \n",
      " 26  EST_CARR_TERCERA_REPROBACION    114519 non-null  object \n",
      " 27  ESTUDIANTE_SANCIONES_VIGENTES   114519 non-null  object \n",
      " 28  CARR_ACTUAL_GRADUADO            114519 non-null  object \n",
      " 29  ESTUDIANTE_SEXO                 114519 non-null  object \n",
      " 30  ESTUDIANTE_GAP                  114519 non-null  object \n",
      " 31  CURSA_CARRERA_GRADO             114519 non-null  object \n",
      " 32  CURSA_CARRERA_POSGR             114519 non-null  object \n",
      " 33  CURSA_CARRERA_TEC               114519 non-null  object \n",
      " 34  TITULADO_CARRERA_GR             114519 non-null  object \n",
      " 35  TITULADO_PROG_PS                114519 non-null  object \n",
      " 36  ESTUDIANTE_FALLECIDO            114519 non-null  object \n",
      " 37  RANGO_ANIOS_ABANDONO            114519 non-null  object \n",
      " 38  RANGO_ETARIO                    114519 non-null  object \n",
      " 39  IMPEDIMENTOS                    114519 non-null  object \n",
      " 40  DESCUENTO_REINGRESO             114519 non-null  object \n",
      " 41  TIENE_AUTORIZACION_TM           114519 non-null  object \n",
      " 42  CUMPLE_SEGUNDA_LENGUA           114519 non-null  object \n",
      " 43  EST_CARR_OTRA_MALLA_SIN_MATRIC  114519 non-null  object \n",
      " 44  ESTADO_BECA                     114519 non-null  object \n",
      "dtypes: float64(8), int64(9), object(28)\n",
      "memory usage: 39.3+ MB\n"
     ]
    }
   ],
   "source": [
    "dataUnido.info()"
   ]
  },
  {
   "cell_type": "markdown",
   "id": "19c65304-118e-4a62-b1a5-deda1011a07e",
   "metadata": {},
   "source": [
    "#  **Conversión con LabelEncoder y OneHotEncoder** \n",
    "\n",
    "  * **Remplazar columnas con valores SI, NO a binarios**\n",
    "\n",
    "    Columnas : \n",
    "       - EST_CARR_SEGUNDA_REPROBACION\n",
    "       - EST_CARR_TERCERA_REPROBACION\n",
    "       - CUMPLE_SEGUNDA_LENGUA\n",
    "  \n",
    "  * **Formato de columna Edad a entero**\n",
    "\n",
    "   - Convertir a valores Int\n",
    "   - Pasar valores a binario\n",
    "\n",
    "  * **Columna Rango Años de abandono de estudio**\n",
    "\n",
    "\n",
    "    - Pasar valores a categóricos a promedio entre la suma de ellos *'promedioAñosAbandono'*\n",
    "\n",
    "  * **Columna de Rango etario**\n",
    "\n",
    "    - Pasar valores a categóricos a promedio entre la suma de ellos *'promedioRangoEtario'*\n",
    "\n",
    "  * **Columna de nivel de carrera**\n",
    "\n",
    "    - Pasar valores a categóricos a binarios 0 y 1\n",
    "\n",
    "  * **Columna Modalidad**\n",
    "\n",
    "    - Pasar valores a categóricos a bianrios 0, 1 y 2\n",
    "\n",
    "  * **Columna nombre del centro**\n",
    "\n",
    "    - Pasar valores a categóricos a binarios 0 y 1\n",
    "    - \n",
    "  * **Columna nombre del Estado de la beca**\n",
    "\n",
    "    - Pasar valores a categóricos a binarios 0 y 1\n",
    "### **Revisión de valores nulos**\n",
    "\n",
    "   * Columnas para conversión de categórica a numérica CON DUMMIES\n",
    "\n",
    "     * ESTUDIANTE_CARRERA_NIVEL\n",
    "     * ESTUDIANTE_CARRERA_MODALIDAD\n",
    "     * ESTUDIANTE_CARRERA_RESPONSABLE\n",
    "     * ESTUDIANTE_CENTRO_NOMBRE\n",
    "\n",
    "\n"
   ]
  },
  {
   "cell_type": "markdown",
   "id": "1b9a77e7-0ca2-4711-b0ca-69b4a9ca6f52",
   "metadata": {},
   "source": [
    "### 1. ESTUDIANTE_CARRERA_NIVEL"
   ]
  },
  {
   "cell_type": "code",
   "execution_count": 382,
   "id": "ae77e2ec-056a-4866-baa3-4c5cb59a3246",
   "metadata": {},
   "outputs": [],
   "source": [
    "# O convertir a binario\n",
    "dataUnido['ESTUDIANTE_CARRERA_NIVEL'] = dataUnido['ESTUDIANTE_CARRERA_NIVEL'].map({'GRADO': 0, 'POSGRADO': 1})\n"
   ]
  },
  {
   "cell_type": "markdown",
   "id": "18ca4cdd-7663-4d97-88ba-6b3f6ee8fad9",
   "metadata": {},
   "source": [
    "### 2. ESTUDIANTE_CARRERA_MODALIDAD\n"
   ]
  },
  {
   "cell_type": "code",
   "execution_count": 383,
   "id": "ead78788-609e-4e14-81a7-c08cfea0fdce",
   "metadata": {},
   "outputs": [],
   "source": [
    "# Convertir a tipo categórico\n",
    "dataUnido['ESTUDIANTE_CARRERA_MODALIDAD'] = dataUnido['ESTUDIANTE_CARRERA_MODALIDAD'].map({'DISTANCIA': 0, 'PRESENCIAL': 1,'EN LINEA': 2})\n"
   ]
  },
  {
   "cell_type": "markdown",
   "id": "0febf71b-8cda-4865-9aea-05f1311c0cdf",
   "metadata": {},
   "source": [
    "### 3. RANGO_ANIOS_ABANDONO"
   ]
  },
  {
   "cell_type": "markdown",
   "id": "634e922c-70c4-4311-bfd1-3ded5fe2e1f2",
   "metadata": {},
   "source": [
    "# Corrección de variables categóricas a  DUMMIES"
   ]
  },
  {
   "cell_type": "code",
   "execution_count": 384,
   "id": "a8f95132-db83-4520-8992-5244d42dd9c8",
   "metadata": {},
   "outputs": [
    {
     "name": "stdout",
     "output_type": "stream",
     "text": [
      "[ 8 18 13  0  3 23 33]\n"
     ]
    }
   ],
   "source": [
    "\n",
    "# Asegúrate de que todos los valores sean cadenas de texto\n",
    "dataUnido['RANGO_ANIOS_ABANDONO'] = dataUnido['RANGO_ANIOS_ABANDONO'].astype(str)\n",
    "\n",
    "# Limpia los espacios alrededor del guion\n",
    "dataUnido['RANGO_ANIOS_ABANDONO'] = dataUnido['RANGO_ANIOS_ABANDONO'].str.replace(r'\\s*-\\s*', ' A ', regex=True)\n",
    "\n",
    "# Diccionario de rangos a valores promedio\n",
    "ingresos_map = {\n",
    "    '6 A 10':8, \n",
    "    '16 A 20':18,  \n",
    "    '11 A 15':13, \n",
    "    '0':0, \n",
    "    '1 A 5':3, \n",
    "    '21 A 25':23, \n",
    "    '26 A 30':33\n",
    "}\n",
    "\n",
    "# Reemplaza los valores en la columna\n",
    "dataUnido['promedioAñosAbandono'] = dataUnido['RANGO_ANIOS_ABANDONO'].map(ingresos_map)\n",
    "\n",
    "# Convierte la nueva columna a float\n",
    "dataUnido['promedioAñosAbandono'] = dataUnido['promedioAñosAbandono'].astype(int)\n",
    "\n",
    "# Verifica si hay algún NaN resultante y muestra los casos\n",
    "print(dataUnido['promedioAñosAbandono'].unique())\n"
   ]
  },
  {
   "cell_type": "code",
   "execution_count": 385,
   "id": "b1f4b2d3-465a-4854-8798-3441e8cf6613",
   "metadata": {},
   "outputs": [
    {
     "name": "stdout",
     "output_type": "stream",
     "text": [
      "['Adulto' 'Joven' 'Adulto mayor' 'Otro']\n"
     ]
    }
   ],
   "source": [
    "# Mapeo de rangos etarios a categorías\n",
    "rango_etario_map = {\n",
    "    '51 A 65': 'Adulto',\n",
    "    '31 A 40': 'Adulto',\n",
    "    '41 A 50': 'Adulto',\n",
    "    '25 A 30': 'Joven',\n",
    "    'Mayores a 65': 'Adulto mayor',\n",
    "    '16 A 24': 'Joven',\n",
    "    'Fuera de rango': 'Otro'\n",
    "}\n",
    "\n",
    "# Aplicar el mapeo\n",
    "dataUnido['rango_etario_categoria'] = dataUnido['RANGO_ETARIO'].map(rango_etario_map)\n",
    "\n",
    "# Verificar los resultados\n",
    "print(dataUnido['rango_etario_categoria'].unique())\n",
    "\n",
    "\n",
    "# Aplicar pd.get_dummies para convertir la columna 'RANGO_ETARIO' en columnas binarias\n",
    "dataUnido = pd.get_dummies(dataUnido, columns=['rango_etario_categoria'], prefix='rango_Etario', drop_first=False)\n",
    "\n",
    "# Verificar las columnas generadas\n",
    "# print(dataUnido.columns)\n"
   ]
  },
  {
   "cell_type": "markdown",
   "id": "fd6e6055-c0b8-45fc-b50a-9ef6e96b629a",
   "metadata": {},
   "source": [
    "# Conversión columna Sexo"
   ]
  },
  {
   "cell_type": "code",
   "execution_count": 386,
   "id": "7d006d87-cd72-4c2d-8182-273056a831d5",
   "metadata": {},
   "outputs": [
    {
     "name": "stdout",
     "output_type": "stream",
     "text": [
      "ESTUDIANTE_SEXO\n",
      "MUJER            62314\n",
      "HOMBRE           49753\n",
      "NO DISPONIBLE     2452\n",
      "Name: count, dtype: int64\n",
      "ESTUDIANTE_SEXO\n",
      "1    62314\n",
      "0    49753\n",
      "2     2452\n",
      "Name: count, dtype: int64\n"
     ]
    }
   ],
   "source": [
    "# Inicializar LabelEncoder y transformar la columna 'ESTUDIANTE_SEXO'\n",
    "le = LabelEncoder()\n",
    "dataUnido['ESTUDIANTE_SEXO'] = le.fit_transform(dataUnido['ESTUDIANTE_SEXO'])\n",
    "\n",
    "# Contar los valores únicos en 'ESTUDIANTE_SEXO' y almacenarlos en 'conteo_sexo'\n",
    "conteoSexo = data['ESTUDIANTE_SEXO'].value_counts()\n",
    "conteo_sexo = dataUnido['ESTUDIANTE_SEXO'].value_counts()\n",
    "\n",
    "# Mostrar el resultado\n",
    "print(conteoSexo)\n",
    "print(conteo_sexo)\n"
   ]
  },
  {
   "cell_type": "markdown",
   "id": "7ff7f956-ec4b-4fe6-973c-bfebc86f4ade",
   "metadata": {},
   "source": [
    "### Conversión centro nombre a binarios"
   ]
  },
  {
   "cell_type": "code",
   "execution_count": 387,
   "id": "f29910a7-4058-49ee-99b8-40b5624e007f",
   "metadata": {},
   "outputs": [
    {
     "data": {
      "text/plain": [
       "ESTUDIANTE_CENTRO_NOMBRE\n",
       "1    101893\n",
       "0     12626\n",
       "Name: count, dtype: int64"
      ]
     },
     "execution_count": 387,
     "metadata": {},
     "output_type": "execute_result"
    }
   ],
   "source": [
    "\n",
    "# Mapear 'QUITO' a 0 y 'LOJA' a 1\n",
    "dataUnido['ESTUDIANTE_CENTRO_NOMBRE'] = dataUnido['ESTUDIANTE_CENTRO_NOMBRE'].map({'QUITO': 0, 'LOJA': 1})\n",
    "dataUnido['ESTUDIANTE_CENTRO_NOMBRE'] = dataUnido['ESTUDIANTE_CENTRO_NOMBRE'].astype(int)\n",
    "dataUnido['ESTUDIANTE_CENTRO_NOMBRE'].value_counts()\n"
   ]
  },
  {
   "cell_type": "markdown",
   "id": "2133c7e2-cf9b-46cc-844c-dcdc25bfba47",
   "metadata": {},
   "source": [
    "### Conversión e variables predictiva a valores binarios 0 y 1\n"
   ]
  },
  {
   "cell_type": "code",
   "execution_count": 388,
   "id": "784c228d-04f5-4320-9f99-c6ee8fcdf103",
   "metadata": {},
   "outputs": [],
   "source": [
    "\n",
    "# # Convertir los valores a 1 y 0\n",
    "# dataUnido['ESTADO_BECA'] = dataUnido['ESTADO_BECA'].apply(lambda x: 0 if x == 'Ninguno' else 1)\n",
    "# # Verificar los cambios\n",
    "\n",
    "# print(dataUnido['ESTADO_BECA'].value_counts())"
   ]
  },
  {
   "cell_type": "markdown",
   "id": "10578994-0f78-4d04-94dc-e28a205a9c53",
   "metadata": {},
   "source": [
    "## 2 Conversión de valores SI , NO en binarios\n"
   ]
  },
  {
   "cell_type": "code",
   "execution_count": 389,
   "id": "0a430e16-0e34-40ad-a805-a3664ce5bc1a",
   "metadata": {},
   "outputs": [
    {
     "name": "stderr",
     "output_type": "stream",
     "text": [
      "/var/folders/3n/wr348_g54y3dnpq24d5zdn9w0000gn/T/ipykernel_1952/2430805621.py:1: FutureWarning: Downcasting behavior in `replace` is deprecated and will be removed in a future version. To retain the old behavior, explicitly call `result.infer_objects(copy=False)`. To opt-in to the future behavior, set `pd.set_option('future.no_silent_downcasting', True)`\n",
      "  dataUnido = dataUnido.replace({'SI': 1, 'NO': 0, 'Si': 1, 'No': 0})\n"
     ]
    }
   ],
   "source": [
    "dataUnido = dataUnido.replace({'SI': 1, 'NO': 0, 'Si': 1, 'No': 0})\n",
    "dataUnido = dataUnido.infer_objects(copy=False)"
   ]
  },
  {
   "cell_type": "code",
   "execution_count": 390,
   "id": "bdc5e297-137e-4833-b921-9e4bb7c64ba1",
   "metadata": {},
   "outputs": [
    {
     "name": "stdout",
     "output_type": "stream",
     "text": [
      "<class 'pandas.core.frame.DataFrame'>\n",
      "RangeIndex: 114519 entries, 0 to 114518\n",
      "Data columns (total 50 columns):\n",
      " #   Column                          Non-Null Count   Dtype  \n",
      "---  ------                          --------------   -----  \n",
      " 0   ID                              114519 non-null  int64  \n",
      " 1   ESTUDIANTE_CARRERA_PLAN_ESTUD   114519 non-null  int64  \n",
      " 2   EST_CARR_NUMERO_CICLOS          114519 non-null  int64  \n",
      " 3   TOTAL_ASIGNATURAS_ACUMULADAS    114519 non-null  int64  \n",
      " 4   PORCENTAJE_AVANCE               114519 non-null  float64\n",
      " 5   CICLO_AVANCE_SEMESTRE           114519 non-null  float64\n",
      " 6   CICLO_ULTIMA_MATRICULA          114519 non-null  float64\n",
      " 7   EST_CARR_INTENTOS_APROBACION    114519 non-null  float64\n",
      " 8   EST_CARR_INTENTOS_REPROBACION   114519 non-null  float64\n",
      " 9   EST_CARR_ASIGNATURA_PENDIENTES  114519 non-null  float64\n",
      " 10  ULT_BECA_MONTO_REAL             114519 non-null  float64\n",
      " 11  EST_CARR_ANIOS_ABANDONO         114519 non-null  int64  \n",
      " 12  ESTUDIANTE_EDAD                 114519 non-null  int64  \n",
      " 13  TOTAL_ULT_BECAS_ASIGN           114519 non-null  float64\n",
      " 14  EST_CARR_CANT_ASG_3ERA_REP      114519 non-null  int64  \n",
      " 15  EST_CARR_CANT_ASG_2DA_REP       114519 non-null  int64  \n",
      " 16  TOTAL_ANIOS                     114519 non-null  int64  \n",
      " 17  ESTUDIANTE_CARRERA_NIVEL        114519 non-null  int64  \n",
      " 18  ESTUDIANTE_CARRERA_MODALIDAD    114519 non-null  int64  \n",
      " 19  ESTUDIANTE_CARRERA_NOMBRE       114519 non-null  object \n",
      " 20  ESTUDIANTE_CARRERA_RESPONSABLE  114519 non-null  object \n",
      " 21  ESTUDIANTE_CENTRO_NOMBRE        114519 non-null  int64  \n",
      " 22  ULTIMA_MATRICULA_PERIODO        114519 non-null  object \n",
      " 23  CTAXCOBRAR_VIGENTE              114519 non-null  int64  \n",
      " 24  RETENCIONES_VIGENTES            114519 non-null  int64  \n",
      " 25  EST_CARR_SEGUNDA_REPROBACION    114519 non-null  int64  \n",
      " 26  EST_CARR_TERCERA_REPROBACION    114519 non-null  int64  \n",
      " 27  ESTUDIANTE_SANCIONES_VIGENTES   114519 non-null  int64  \n",
      " 28  CARR_ACTUAL_GRADUADO            114519 non-null  int64  \n",
      " 29  ESTUDIANTE_SEXO                 114519 non-null  int64  \n",
      " 30  ESTUDIANTE_GAP                  114519 non-null  object \n",
      " 31  CURSA_CARRERA_GRADO             114519 non-null  int64  \n",
      " 32  CURSA_CARRERA_POSGR             114519 non-null  int64  \n",
      " 33  CURSA_CARRERA_TEC               114519 non-null  int64  \n",
      " 34  TITULADO_CARRERA_GR             114519 non-null  int64  \n",
      " 35  TITULADO_PROG_PS                114519 non-null  int64  \n",
      " 36  ESTUDIANTE_FALLECIDO            114519 non-null  int64  \n",
      " 37  RANGO_ANIOS_ABANDONO            114519 non-null  object \n",
      " 38  RANGO_ETARIO                    114519 non-null  object \n",
      " 39  IMPEDIMENTOS                    114519 non-null  int64  \n",
      " 40  DESCUENTO_REINGRESO             114519 non-null  int64  \n",
      " 41  TIENE_AUTORIZACION_TM           114519 non-null  int64  \n",
      " 42  CUMPLE_SEGUNDA_LENGUA           114519 non-null  int64  \n",
      " 43  EST_CARR_OTRA_MALLA_SIN_MATRIC  114519 non-null  int64  \n",
      " 44  ESTADO_BECA                     114519 non-null  int64  \n",
      " 45  promedioAñosAbandono            114519 non-null  int64  \n",
      " 46  rango_Etario_Adulto             114519 non-null  bool   \n",
      " 47  rango_Etario_Adulto mayor       114519 non-null  bool   \n",
      " 48  rango_Etario_Joven              114519 non-null  bool   \n",
      " 49  rango_Etario_Otro               114519 non-null  bool   \n",
      "dtypes: bool(4), float64(8), int64(32), object(6)\n",
      "memory usage: 40.6+ MB\n"
     ]
    }
   ],
   "source": [
    "dataUnido.info()"
   ]
  },
  {
   "cell_type": "markdown",
   "id": "2c04ca7d-3dd5-4e14-8571-2ccc41f21ca8",
   "metadata": {},
   "source": [
    "## Tratamiento de la columna de carreras "
   ]
  },
  {
   "cell_type": "code",
   "execution_count": 391,
   "id": "8f900c0f-c473-4676-b543-59e0f28de85e",
   "metadata": {},
   "outputs": [
    {
     "name": "stdout",
     "output_type": "stream",
     "text": [
      "Carreras más frecuentes: Index(['DERECHO', 'CONTABILIDAD Y AUDITORIA', 'EDUCACION BASICA'], dtype='object', name='ESTUDIANTE_CARRERA_NOMBRE')\n"
     ]
    }
   ],
   "source": [
    "# Contar las frecuencias de cada carrera\n",
    "frecuencias = dataUnido['ESTUDIANTE_CARRERA_NOMBRE'].value_counts()\n",
    "\n",
    "# Seleccionar un umbral para las carreras más frecuentes (e.g., las 3 más comunes)\n",
    "umbral = 3\n",
    "carreras_frecuentes = frecuencias.nlargest(umbral).index\n",
    "# print(\"Carreras s:\", dataUnido['ESTUDIANTE_CARRERA_NOMBRE'].value_counts())\n",
    "print(\"Carreras más frecuentes:\", carreras_frecuentes)\n"
   ]
  },
  {
   "cell_type": "markdown",
   "id": "7d08f1d2-2bcf-4739-9dd8-c3806dbea4f7",
   "metadata": {},
   "source": [
    "### Agrupar las menos frecuentes como \"OTRAS\":"
   ]
  },
  {
   "cell_type": "code",
   "execution_count": 392,
   "id": "7d070bf7-2b60-4f98-b284-d7aba2a61276",
   "metadata": {},
   "outputs": [
    {
     "name": "stdout",
     "output_type": "stream",
     "text": [
      "['DERECHO' 'CONTABILIDAD Y AUDITORIA' 'OTRAS' 'EDUCACION BASICA']\n"
     ]
    }
   ],
   "source": [
    "# Reemplazar las carreras menos frecuentes con \"OTRAS\"\n",
    "dataUnido['ESTUDIANTE_CARRERA_NOMBRE'] = dataUnido['ESTUDIANTE_CARRERA_NOMBRE'].apply(\n",
    "    lambda x: x if x in carreras_frecuentes else 'OTRAS'\n",
    ")\n",
    "\n",
    "# Verificar las categorías resultantes\n",
    "print(dataUnido['ESTUDIANTE_CARRERA_NOMBRE'].unique())\n"
   ]
  },
  {
   "cell_type": "code",
   "execution_count": 393,
   "id": "259d5bd0-0121-4fda-b888-bff5af73596f",
   "metadata": {},
   "outputs": [
    {
     "name": "stdout",
     "output_type": "stream",
     "text": [
      "Index(['ID', 'ESTUDIANTE_CARRERA_PLAN_ESTUD', 'EST_CARR_NUMERO_CICLOS',\n",
      "       'TOTAL_ASIGNATURAS_ACUMULADAS', 'PORCENTAJE_AVANCE',\n",
      "       'CICLO_AVANCE_SEMESTRE', 'CICLO_ULTIMA_MATRICULA',\n",
      "       'EST_CARR_INTENTOS_APROBACION', 'EST_CARR_INTENTOS_REPROBACION',\n",
      "       'EST_CARR_ASIGNATURA_PENDIENTES', 'ULT_BECA_MONTO_REAL',\n",
      "       'EST_CARR_ANIOS_ABANDONO', 'ESTUDIANTE_EDAD', 'TOTAL_ULT_BECAS_ASIGN',\n",
      "       'EST_CARR_CANT_ASG_3ERA_REP', 'EST_CARR_CANT_ASG_2DA_REP',\n",
      "       'TOTAL_ANIOS', 'ESTUDIANTE_CARRERA_NIVEL',\n",
      "       'ESTUDIANTE_CARRERA_MODALIDAD', 'ESTUDIANTE_CARRERA_NOMBRE',\n",
      "       'ESTUDIANTE_CARRERA_RESPONSABLE', 'ESTUDIANTE_CENTRO_NOMBRE',\n",
      "       'ULTIMA_MATRICULA_PERIODO', 'CTAXCOBRAR_VIGENTE',\n",
      "       'RETENCIONES_VIGENTES', 'EST_CARR_SEGUNDA_REPROBACION',\n",
      "       'EST_CARR_TERCERA_REPROBACION', 'ESTUDIANTE_SANCIONES_VIGENTES',\n",
      "       'CARR_ACTUAL_GRADUADO', 'ESTUDIANTE_SEXO', 'ESTUDIANTE_GAP',\n",
      "       'CURSA_CARRERA_GRADO', 'CURSA_CARRERA_POSGR', 'CURSA_CARRERA_TEC',\n",
      "       'TITULADO_CARRERA_GR', 'TITULADO_PROG_PS', 'ESTUDIANTE_FALLECIDO',\n",
      "       'RANGO_ANIOS_ABANDONO', 'RANGO_ETARIO', 'IMPEDIMENTOS',\n",
      "       'DESCUENTO_REINGRESO', 'TIENE_AUTORIZACION_TM', 'CUMPLE_SEGUNDA_LENGUA',\n",
      "       'EST_CARR_OTRA_MALLA_SIN_MATRIC', 'ESTADO_BECA', 'promedioAñosAbandono',\n",
      "       'rango_Etario_Adulto', 'rango_Etario_Adulto mayor',\n",
      "       'rango_Etario_Joven', 'rango_Etario_Otro'],\n",
      "      dtype='object')\n"
     ]
    }
   ],
   "source": [
    "print(dataUnido.columns)"
   ]
  },
  {
   "cell_type": "markdown",
   "id": "dcc0f821-3eeb-4c34-aaba-78a5f1c5b935",
   "metadata": {},
   "source": [
    "#### Aplicar One-Hot Encoding a la columna agrupada: de carreras\n"
   ]
  },
  {
   "cell_type": "code",
   "execution_count": 394,
   "id": "a74291c8-7c24-4966-8c82-0de3b4c7cd19",
   "metadata": {},
   "outputs": [],
   "source": [
    "# Crear variables dummies para las carreras\n",
    "dataUnido = pd.get_dummies(dataUnido, columns=['ESTUDIANTE_CARRERA_NOMBRE'], prefix='CARRERA')\n"
   ]
  },
  {
   "cell_type": "markdown",
   "id": "7f95ce95-9dd3-4a3a-980d-a7fa49fc87ea",
   "metadata": {},
   "source": [
    "#### Aplicar One-Hot Encoding a la columna agrupada: de facultades\n"
   ]
  },
  {
   "cell_type": "code",
   "execution_count": 395,
   "id": "d643dfb5-6e2e-4fcb-9160-2e9e0ea9b50f",
   "metadata": {},
   "outputs": [],
   "source": [
    "# Aplicar One-Hot Encoding a las facultades\n",
    "dataUnido = pd.get_dummies(dataUnido, columns=['ESTUDIANTE_CARRERA_RESPONSABLE'], prefix='FACULTAD')"
   ]
  },
  {
   "cell_type": "markdown",
   "id": "4b4bb66c-6582-4a05-9e75-ad7391de2b87",
   "metadata": {},
   "source": [
    "### Tratamiento de periodo ultima matricula del periodo"
   ]
  },
  {
   "cell_type": "code",
   "execution_count": 396,
   "id": "569e2e0f-ef4c-4b2a-9a3e-5b14e0dbcc92",
   "metadata": {},
   "outputs": [
    {
     "name": "stdout",
     "output_type": "stream",
     "text": [
      "['2015' '2008' '2011' '2013' '2014' '2012' '2024' '2018' '2005' '0000'\n",
      " '2016' '2019' '2022' '2006' '2010' '2009' '2007' '2021' '2023' '2017'\n",
      " '2020' '2004' '2003' '2000' '2002' '1998' '2001' '1999' '1996' '1994'\n",
      " '1997']\n"
     ]
    }
   ],
   "source": [
    "# Extraer los años de inicio y fin como listas\n",
    "dataUnido['ultimaMatAño'] = dataUnido['ULTIMA_MATRICULA_PERIODO'].str.extract(r'(\\d{4})', expand=False)\n",
    "# print(dataUnido['AÑO_INICIO'].unique())\n",
    "# print(dataUnido[['ID', 'AÑO_INICIO']].head(10))\n",
    "\n",
    "\n",
    "dataUnido['ultimaMatAño'] = dataUnido['ultimaMatAño'].fillna(0)\n",
    "print(dataUnido['ultimaMatAño'].unique())\n",
    "\n",
    "dataUnido['ultimaMatAño'] = dataUnido['ultimaMatAño'].astype(int)\n",
    "\n",
    "# print(dataUnido['AÑO'].head())\n"
   ]
  },
  {
   "cell_type": "code",
   "execution_count": 397,
   "id": "84df932b-1cb4-4bec-b54c-2656c802f4a4",
   "metadata": {},
   "outputs": [
    {
     "name": "stdout",
     "output_type": "stream",
     "text": [
      "['Ninguno' 'EXTRANJERO' 'PERSONAS CON DISCAPACIDAD' 'PPL']\n"
     ]
    }
   ],
   "source": [
    "# Mapeo de rangos etarios a categorías\n",
    "rango_etario_map = {\n",
    "    0 : 'Ninguno',\n",
    "'CENTRO EXTRANJERO':'EXTRANJERO', \n",
    "'PERSONAS CON DISCAPACIDAD':'PERSONAS CON DISCAPACIDAD',\n",
    "'PPL':'PPL'\n",
    "}\n",
    "\n",
    "# Aplicar el mapeo\n",
    "dataUnido['est_GAP'] = dataUnido['ESTUDIANTE_GAP'].map(rango_etario_map)\n",
    "\n",
    "# Verificar los resultados\n",
    "print(dataUnido['est_GAP'].unique())\n",
    "\n",
    "dataUnido = pd.get_dummies(dataUnido, columns=['est_GAP'], prefix='est_GAP', drop_first=False)\n"
   ]
  },
  {
   "cell_type": "code",
   "execution_count": 398,
   "id": "456d522d-ce31-4ccf-965e-d29d64e5d56d",
   "metadata": {},
   "outputs": [],
   "source": [
    "# Eliminar las columnas especificadas\n",
    "dataUnido = dataUnido.drop(columns=['RANGO_ANIOS_ABANDONO', 'RANGO_ETARIO','ESTUDIANTE_GAP','ULTIMA_MATRICULA_PERIODO'])\n"
   ]
  },
  {
   "cell_type": "markdown",
   "id": "7c6210c0-f441-43de-95bb-f286014c786d",
   "metadata": {},
   "source": [
    "# Guarad CSV transformado a numérico CON VARIABLES DUMIIES"
   ]
  },
  {
   "cell_type": "code",
   "execution_count": 399,
   "id": "123207c6-b8eb-4c0b-8f88-ce6e01075f28",
   "metadata": {},
   "outputs": [],
   "source": [
    "dataUnido = dataUnido.astype({col: 'int' for col in dataUnido.select_dtypes(include=['bool']).columns})\n",
    "\n",
    "# Guardar el DataFrame resultante en un archivo CSV\n",
    "dataUnido.to_csv('dataDummiesV2.csv', index=False, sep=\";\")\n"
   ]
  },
  {
   "cell_type": "code",
   "execution_count": 400,
   "id": "26c5f037-6663-456f-b5bf-aa26bb13c355",
   "metadata": {},
   "outputs": [
    {
     "name": "stdout",
     "output_type": "stream",
     "text": [
      "<class 'pandas.core.frame.DataFrame'>\n",
      "RangeIndex: 114519 entries, 0 to 114518\n",
      "Data columns (total 59 columns):\n",
      " #   Column                                                           Non-Null Count   Dtype  \n",
      "---  ------                                                           --------------   -----  \n",
      " 0   ID                                                               114519 non-null  int64  \n",
      " 1   ESTUDIANTE_CARRERA_PLAN_ESTUD                                    114519 non-null  int64  \n",
      " 2   EST_CARR_NUMERO_CICLOS                                           114519 non-null  int64  \n",
      " 3   TOTAL_ASIGNATURAS_ACUMULADAS                                     114519 non-null  int64  \n",
      " 4   PORCENTAJE_AVANCE                                                114519 non-null  float64\n",
      " 5   CICLO_AVANCE_SEMESTRE                                            114519 non-null  float64\n",
      " 6   CICLO_ULTIMA_MATRICULA                                           114519 non-null  float64\n",
      " 7   EST_CARR_INTENTOS_APROBACION                                     114519 non-null  float64\n",
      " 8   EST_CARR_INTENTOS_REPROBACION                                    114519 non-null  float64\n",
      " 9   EST_CARR_ASIGNATURA_PENDIENTES                                   114519 non-null  float64\n",
      " 10  ULT_BECA_MONTO_REAL                                              114519 non-null  float64\n",
      " 11  EST_CARR_ANIOS_ABANDONO                                          114519 non-null  int64  \n",
      " 12  ESTUDIANTE_EDAD                                                  114519 non-null  int64  \n",
      " 13  TOTAL_ULT_BECAS_ASIGN                                            114519 non-null  float64\n",
      " 14  EST_CARR_CANT_ASG_3ERA_REP                                       114519 non-null  int64  \n",
      " 15  EST_CARR_CANT_ASG_2DA_REP                                        114519 non-null  int64  \n",
      " 16  TOTAL_ANIOS                                                      114519 non-null  int64  \n",
      " 17  ESTUDIANTE_CARRERA_NIVEL                                         114519 non-null  int64  \n",
      " 18  ESTUDIANTE_CARRERA_MODALIDAD                                     114519 non-null  int64  \n",
      " 19  ESTUDIANTE_CENTRO_NOMBRE                                         114519 non-null  int64  \n",
      " 20  CTAXCOBRAR_VIGENTE                                               114519 non-null  int64  \n",
      " 21  RETENCIONES_VIGENTES                                             114519 non-null  int64  \n",
      " 22  EST_CARR_SEGUNDA_REPROBACION                                     114519 non-null  int64  \n",
      " 23  EST_CARR_TERCERA_REPROBACION                                     114519 non-null  int64  \n",
      " 24  ESTUDIANTE_SANCIONES_VIGENTES                                    114519 non-null  int64  \n",
      " 25  CARR_ACTUAL_GRADUADO                                             114519 non-null  int64  \n",
      " 26  ESTUDIANTE_SEXO                                                  114519 non-null  int64  \n",
      " 27  CURSA_CARRERA_GRADO                                              114519 non-null  int64  \n",
      " 28  CURSA_CARRERA_POSGR                                              114519 non-null  int64  \n",
      " 29  CURSA_CARRERA_TEC                                                114519 non-null  int64  \n",
      " 30  TITULADO_CARRERA_GR                                              114519 non-null  int64  \n",
      " 31  TITULADO_PROG_PS                                                 114519 non-null  int64  \n",
      " 32  ESTUDIANTE_FALLECIDO                                             114519 non-null  int64  \n",
      " 33  IMPEDIMENTOS                                                     114519 non-null  int64  \n",
      " 34  DESCUENTO_REINGRESO                                              114519 non-null  int64  \n",
      " 35  TIENE_AUTORIZACION_TM                                            114519 non-null  int64  \n",
      " 36  CUMPLE_SEGUNDA_LENGUA                                            114519 non-null  int64  \n",
      " 37  EST_CARR_OTRA_MALLA_SIN_MATRIC                                   114519 non-null  int64  \n",
      " 38  ESTADO_BECA                                                      114519 non-null  int64  \n",
      " 39  promedioAñosAbandono                                             114519 non-null  int64  \n",
      " 40  rango_Etario_Adulto                                              114519 non-null  int64  \n",
      " 41  rango_Etario_Adulto mayor                                        114519 non-null  int64  \n",
      " 42  rango_Etario_Joven                                               114519 non-null  int64  \n",
      " 43  rango_Etario_Otro                                                114519 non-null  int64  \n",
      " 44  CARRERA_CONTABILIDAD Y AUDITORIA                                 114519 non-null  int64  \n",
      " 45  CARRERA_DERECHO                                                  114519 non-null  int64  \n",
      " 46  CARRERA_EDUCACION BASICA                                         114519 non-null  int64  \n",
      " 47  CARRERA_OTRAS                                                    114519 non-null  int64  \n",
      " 48  FACULTAD_FACULTAD DE CIENCIAS DE LA SALUD                        114519 non-null  int64  \n",
      " 49  FACULTAD_FACULTAD DE CIENCIAS ECONÓMICAS Y EMPRESARIALES         114519 non-null  int64  \n",
      " 50  FACULTAD_FACULTAD DE CIENCIAS EXACTAS Y NATURALES                114519 non-null  int64  \n",
      " 51  FACULTAD_FACULTAD DE CIENCIAS JURÍDICAS Y POLÍTICAS              114519 non-null  int64  \n",
      " 52  FACULTAD_FACULTAD DE CIENCIAS SOCIALES, EDUCACIÓN Y HUMANIDADES  114519 non-null  int64  \n",
      " 53  FACULTAD_FACULTAD DE INGENIERIAS Y ARQUITECTURA                  114519 non-null  int64  \n",
      " 54  ultimaMatAño                                                     114519 non-null  int64  \n",
      " 55  est_GAP_EXTRANJERO                                               114519 non-null  int64  \n",
      " 56  est_GAP_Ninguno                                                  114519 non-null  int64  \n",
      " 57  est_GAP_PERSONAS CON DISCAPACIDAD                                114519 non-null  int64  \n",
      " 58  est_GAP_PPL                                                      114519 non-null  int64  \n",
      "dtypes: float64(8), int64(51)\n",
      "memory usage: 51.5 MB\n"
     ]
    }
   ],
   "source": [
    "dataUnido.info()"
   ]
  },
  {
   "cell_type": "code",
   "execution_count": 401,
   "id": "2ce24d43-1a60-42fd-93c1-78b209c72cb2",
   "metadata": {},
   "outputs": [
    {
     "data": {
      "text/plain": [
       "array([1, 0])"
      ]
     },
     "execution_count": 401,
     "metadata": {},
     "output_type": "execute_result"
    }
   ],
   "source": [
    "dataUnido['ESTADO_BECA'].unique()"
   ]
  },
  {
   "cell_type": "code",
   "execution_count": null,
   "id": "794838e1-e9ee-404b-b7c6-17e46fca3cd2",
   "metadata": {},
   "outputs": [],
   "source": []
  },
  {
   "cell_type": "markdown",
   "id": "c6bb0122-39b9-4ff0-aeae-0d7bd64a3ae7",
   "metadata": {},
   "source": [
    "# CAMPOS CATEGÓRICOS Y NUMÉRICOS\n",
    "\n",
    "| Columna                                  | Descripción                                                         | Transformación                  | Formato      | Acción Realizada                 | \n",
    "|------------------------------------------|---------------------------------------------------------------------|---------------------------------|--------------|-----------------------------------|\n",
    "| ESTUDIANTE_CARRERA_NIVEL                | Nivel de carrera del estudiante | OneHotEncoder                   | Binario (0/1)  | Columna dividida en categorías en más columnas   | \n",
    "| ESTUDIANTE_CARRERA_MODALIDAD            | Modalidad de estudio | OneHotEncoder                   | Binario (0/1) | Columna dividida en categorías  en más columnas | \n",
    "| ESTUDIANTE_CARRERA_RESPONSABLE          | Facultad responsable de la carrera | OneHotEncoder            | Binario (0/1) | Columna dividida en categorías  en más columnas  | \n",
    "| ESTUDIANTE_CENTRO_NOMBRE                | Nombre del centro de estudios | OneHotEncoder                   | Binario (0/1) | Columna dividida en categorías en más columnas |\n",
    "| PROMEDIO_GENERAL                         | Promedio académico del estudiante | Procesado de los valores nulos por 0   | Decimal      | No se transformó, se relleno campos vacios |\n",
    "| EST_CARR_SEGUNDA_REPROBACION            | Número de materias reprobadas por segunda vez | Binario   | Entero       | Numerización de valores SI, NO pora binarios | \n",
    "| EST_CARR_TERCERA_REPROBACION            | Número de materias reprobadas por tercera vez  | Binario | Entero       | Numerización de valores SI, NO pora binarios | \n",
    "| ESTUDIANTE_SEXO                         | Sexo del estudiante | OneHotEncoder                   | Binario (0/1) | Numerización de valores a binarios   | \n",
    "| ESTUDIANTE_EDAD                         | Edad del estudiante                                                | Transformación de formato | Entero       | Se cambio el formato float a Int | \n",
    "| CUMPLE_SEGUNDA_LENGUA                   | Indica si cumple con un segundo idioma                             | Binario  | Binario (0/1) | Numerización de valores SI, NO pora binarios    |\n",
    "| ESTADO_BECA                             | Estado de beca del estudiante| Valores  con 1 y los vacio con 0 | Binario (0/1) | Relleno con valores 0 cuando esta con nan | \n"
   ]
  },
  {
   "cell_type": "code",
   "execution_count": null,
   "id": "d74d526c-7ba9-4a69-823b-ba1f2a7ed69e",
   "metadata": {},
   "outputs": [],
   "source": []
  }
 ],
 "metadata": {
  "kernelspec": {
   "display_name": "Python 3 (ipykernel)",
   "language": "python",
   "name": "python3"
  },
  "language_info": {
   "codemirror_mode": {
    "name": "ipython",
    "version": 3
   },
   "file_extension": ".py",
   "mimetype": "text/x-python",
   "name": "python",
   "nbconvert_exporter": "python",
   "pygments_lexer": "ipython3",
   "version": "3.12.7"
  }
 },
 "nbformat": 4,
 "nbformat_minor": 5
}
